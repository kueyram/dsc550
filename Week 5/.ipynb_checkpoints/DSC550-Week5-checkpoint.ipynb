{
 "cells": [
  {
   "cell_type": "markdown",
   "id": "c84da3ae-1d9d-4076-911f-37915205c559",
   "metadata": {},
   "source": [
    "1- Get the stemmed data using the same process you did in Week 3."
   ]
  },
  {
   "cell_type": "code",
   "execution_count": 1,
   "id": "a8ace681-cd81-4959-984d-c4b16a6e9940",
   "metadata": {},
   "outputs": [],
   "source": [
    "# Running the script from week 3 assignment"
   ]
  },
  {
   "cell_type": "code",
   "execution_count": 2,
   "id": "6bebad49-fc57-41ee-bd93-dbb839fc3913",
   "metadata": {},
   "outputs": [],
   "source": [
    "# Importint the pandas library\n",
    "import pandas as pd\n",
    "import nltk\n",
    "import numpy as np\n",
    "from nltk.tokenize import word_tokenize\n",
    "from nltk.corpus import stopwords\n",
    "from sklearn.feature_extraction.text import CountVectorizer\n",
    "from sklearn.feature_extraction.text import TfidfVectorizer\n",
    "from nltk.stem.porter import PorterStemmer\n",
    "\n",
    "# Reading the dataset into pandas\n",
    "labeledTrainData = pd.read_csv('labeledTrainData.tsv', sep='\\t')\n",
    "# Convert all text to lowercase letters\n",
    "# Function to convert a text to lower case\n",
    "\n",
    "def lower_case(text):\n",
    "    text = text.lower()\n",
    "    return text\n",
    "\n",
    "# Let's apply the function to our dataset\n",
    "labeledTrainData['review_processed'] = labeledTrainData['review'].apply(lower_case)\n",
    "\n",
    "# Remove punctuation and special characters from the text\n",
    "# Function to remove punctuation and special characters from the text\n",
    "def remove_punct_spec_car(text):\n",
    "    symbols_to_remove = [',', ';', '?', '$', '.', ':', '!', '[', ']', '(', ')', '\\\\', '-', '\"', \"'\"]\n",
    "    # Loop through the symbols and remove them from the text\n",
    "    for symbol in symbols_to_remove:\n",
    "        text = text.replace(symbol, \" \")\n",
    "    return text\n",
    "\n",
    "# Let's apply the function to the dataset\n",
    "labeledTrainData['review_processed'] = labeledTrainData['review_processed'].apply(remove_punct_spec_car)\n",
    "\n",
    "# Remove stop words\n",
    "from nltk.tokenize import word_tokenize\n",
    "def text_tokenize(text):\n",
    "    word_tokenized = word_tokenize(text)\n",
    "    return word_tokenized\n",
    "\n",
    "labeledTrainData['review_processed'] = labeledTrainData['review_processed'].apply(text_tokenize)\n",
    "\n",
    "# Function to remove the stop words\n",
    "def remove_stop_words(text):\n",
    "    # Load the stop words\n",
    "    stop_words = stopwords.words('english')\n",
    "\n",
    "    # Remove the stop words\n",
    "    text_modified = [word for word in text if word not in stop_words]\n",
    "    \n",
    "    return text_modified\n",
    "\n",
    "# Apply the function to the dataset\n",
    "labeledTrainData['review_processed'] = labeledTrainData['review_processed'].apply(remove_stop_words)\n",
    "\n",
    "def porter_stemmer(text):\n",
    "    # Create stemmer\n",
    "    porter = PorterStemmer()\n",
    "    \n",
    "    # Apply stemmer\n",
    "    text_porterstemmer = [porter.stem(word) for word in text]\n",
    "    return text_porterstemmer\n",
    "\n",
    "\n",
    "# Apply the function\n",
    "labeledTrainData['review_processed'] = labeledTrainData['review_processed'].apply(porter_stemmer)"
   ]
  },
  {
   "cell_type": "raw",
   "id": "742e82de-499c-4444-9303-06cbdc7b6834",
   "metadata": {},
   "source": [
    "2- Split this into a training and test set."
   ]
  },
  {
   "cell_type": "code",
   "execution_count": 3,
   "id": "88dfffda-8f57-4c3a-9a5d-8317026a38a5",
   "metadata": {},
   "outputs": [],
   "source": [
    "# Splitting the data into a training and test set\n",
    "\n",
    "from sklearn.model_selection import train_test_split\n",
    "features = labeledTrainData['review']\n",
    "target = labeledTrainData['sentiment']\n",
    "\n",
    "features_train, features_test, target_train, target_test = train_test_split(features, target, test_size=0.2, random_state=0)"
   ]
  },
  {
   "cell_type": "markdown",
   "id": "e4c84ed8-c11a-4adb-be55-f9bc9a53c020",
   "metadata": {},
   "source": [
    "3- Fit and apply the tf-idf vectorization to the training set"
   ]
  },
  {
   "cell_type": "code",
   "execution_count": 4,
   "id": "6a4aaec1-80c2-4889-8d0f-8681b6a4636e",
   "metadata": {},
   "outputs": [
    {
     "name": "stdout",
     "output_type": "stream",
     "text": [
      "(20000, 68380)\n"
     ]
    }
   ],
   "source": [
    "from sklearn.feature_extraction.text import TfidfVectorizer\n",
    "# Intitializing the tf-idf vectorizer\n",
    "vectorizer = TfidfVectorizer()\n",
    "\n",
    "# Fitting and transforming the training set\n",
    "features_train_vect = vectorizer.fit_transform(features_train)\n",
    "\n",
    "# Shape of the transformed training set\n",
    "print(features_train_vect.shape)"
   ]
  },
  {
   "cell_type": "markdown",
   "id": "d9f7ba98-7366-49b2-aaaf-f70a6bf8a9a4",
   "metadata": {},
   "source": [
    "4- Apply but DO NOT FIT the tf-idf vectorization to the test set (Why?)."
   ]
  },
  {
   "cell_type": "code",
   "execution_count": 5,
   "id": "d3d9dd5e-d516-4698-9148-fae26f67bb6d",
   "metadata": {},
   "outputs": [
    {
     "name": "stdout",
     "output_type": "stream",
     "text": [
      "(5000, 68380)\n"
     ]
    }
   ],
   "source": [
    "# Applying the tf-idf vectorization to the test set without fitting\n",
    "features_test_vect = vectorizer.transform(features_test)\n",
    "\n",
    "# Shape of the transformed training set\n",
    "print(features_test_vect.shape)"
   ]
  },
  {
   "cell_type": "markdown",
   "id": "5a928ea4-30e5-4431-aeef-db05ee7fd4a9",
   "metadata": {},
   "source": [
    "If we fit the tf-idf vectorization to both the test and training data, the model will learn the information about the test data (which it is not suppose to learn because we are training the model)."
   ]
  },
  {
   "cell_type": "markdown",
   "id": "a82c0f3e-f7be-41f2-98da-19db42e546aa",
   "metadata": {},
   "source": [
    "5- Train a logistic regression using the training data."
   ]
  },
  {
   "cell_type": "code",
   "execution_count": 6,
   "id": "e9d5c063-eb34-457c-813b-92a96ba01a8e",
   "metadata": {},
   "outputs": [],
   "source": [
    "# Training a logistic regression model\n",
    "from sklearn.linear_model import LogisticRegression\n",
    "\n",
    "# Creating a regression model\n",
    "logistic_regression = LogisticRegression(random_state=0)\n",
    "\n",
    "# Train the model\n",
    "model = logistic_regression.fit(features_train_vect, target_train)"
   ]
  },
  {
   "cell_type": "markdown",
   "id": "5d57cef3-d94d-4ec6-bed1-a06747d57d81",
   "metadata": {},
   "source": [
    "6- Find the model accuracy on test set."
   ]
  },
  {
   "cell_type": "code",
   "execution_count": 7,
   "id": "6dad23f6-e890-4497-b62e-c661b35fe8eb",
   "metadata": {},
   "outputs": [
    {
     "name": "stdout",
     "output_type": "stream",
     "text": [
      "The accuracy of the model is : 0.8932\n"
     ]
    }
   ],
   "source": [
    "# Calculate model accuracy score\n",
    "from sklearn.metrics import accuracy_score\n",
    "\n",
    "# Predict sentiment labels for the test set\n",
    "predictions = model.predict(features_test_vect)\n",
    "\n",
    "# Calculating the accuracy\n",
    "accuracy = accuracy_score(target_test, predictions)\n",
    "\n",
    "# Print the accuracy\n",
    "print(\"The accuracy of the model is :\",accuracy)"
   ]
  },
  {
   "cell_type": "markdown",
   "id": "be2a6e17-a11c-47e6-b09c-6062b371be3d",
   "metadata": {},
   "source": [
    "7- Create a confusion matrix for the test set predictions."
   ]
  },
  {
   "cell_type": "code",
   "execution_count": 8,
   "id": "defd91ff-5fb7-4d84-9c50-c161fa15a10d",
   "metadata": {},
   "outputs": [
    {
     "name": "stdout",
     "output_type": "stream",
     "text": [
      "Confusion matrix\n"
     ]
    },
    {
     "data": {
      "text/plain": [
       "array([[2265,  283],\n",
       "       [ 251, 2201]], dtype=int64)"
      ]
     },
     "execution_count": 8,
     "metadata": {},
     "output_type": "execute_result"
    }
   ],
   "source": [
    "# Confusion matrix\n",
    "from sklearn.metrics import confusion_matrix\n",
    "\n",
    "# Creating the confusion matrix\n",
    "confusion_matrix = confusion_matrix(target_test, predictions)\n",
    "\n",
    "# Printing the confusion matrix\n",
    "print(\"Confusion matrix\")\n",
    "confusion_matrix"
   ]
  },
  {
   "cell_type": "markdown",
   "id": "537cd7c6-b6e0-4dd9-b90b-141f39c6e180",
   "metadata": {},
   "source": [
    "8- Get the precision, recall, and F1-score for the test set predictions."
   ]
  },
  {
   "cell_type": "code",
   "execution_count": 9,
   "id": "bdd70a77-624b-4fab-bd71-06d9252cd948",
   "metadata": {},
   "outputs": [
    {
     "name": "stdout",
     "output_type": "stream",
     "text": [
      "The precision is  0.8860708534621579\n",
      "The recall is  0.8976345840130505\n",
      "The f1 score is  0.8918152350081037\n",
      "\n",
      "Classification report\n",
      "              precision    recall  f1-score   support\n",
      "\n",
      "           0       0.90      0.89      0.89      2548\n",
      "           1       0.89      0.90      0.89      2452\n",
      "\n",
      "    accuracy                           0.89      5000\n",
      "   macro avg       0.89      0.89      0.89      5000\n",
      "weighted avg       0.89      0.89      0.89      5000\n",
      "\n"
     ]
    }
   ],
   "source": [
    "from sklearn.metrics import precision_score, recall_score, f1_score\n",
    "from sklearn.metrics import classification_report\n",
    "\n",
    "# Precision\n",
    "precision = precision_score(target_test, predictions)\n",
    "print(\"The precision is \", precision)\n",
    "\n",
    "# Recall\n",
    "recall = recall_score(target_test, predictions)\n",
    "print(\"The recall is \", recall)\n",
    "\n",
    "# F1 score\n",
    "f1_score = f1_score(target_test, predictions)\n",
    "print(\"The f1 score is \", f1_score)\n",
    "\n",
    "# Getting a classification Report\n",
    "print(\"\\nClassification report\")\n",
    "print(classification_report(target_test, predictions))"
   ]
  },
  {
   "cell_type": "markdown",
   "id": "823e015a-ccb6-4c33-b0fa-08512c13e677",
   "metadata": {},
   "source": [
    "9- Create a ROC curve for the test set."
   ]
  },
  {
   "cell_type": "code",
   "execution_count": 10,
   "id": "858f88af-16c8-43d9-8d0e-8d0a3ac27a59",
   "metadata": {},
   "outputs": [
    {
     "data": {
      "image/png": "[encoded data removed]",
      "text/plain": [
       "<Figure size 640x480 with 1 Axes>"
      ]
     },
     "metadata": {},
     "output_type": "display_data"
    }
   ],
   "source": [
    "import matplotlib.pyplot as plt\n",
    "from sklearn.metrics import roc_curve, roc_auc_score\n",
    "\n",
    "# Get the predicted probabilities\n",
    "target_probabilities = model.predict_proba(features_test_vect)[:,1]\n",
    "\n",
    "# Create tue and false positive rates\n",
    "false_positive_rate, true_positive_rate, threshold = roc_curve(target_test, target_probabilities)\n",
    "\n",
    "# Plotting the ROC curve for the test set\n",
    "plt.title(\"Receiver Operating Characteristic ROC\")\n",
    "plt.plot(false_positive_rate, true_positive_rate)\n",
    "plt.plot([0,1], ls=\"--\")\n",
    "plt.plot([0,0],[1,0], c=\".7\",), plt.plot([1,1], c=\".7\")\n",
    "plt.ylabel(\"True Positive Rate\")\n",
    "plt.xlabel(\"False Positive Rate\")\n",
    "plt.show()"
   ]
  },
  {
   "cell_type": "markdown",
   "id": "718d58c5-35b3-4cff-87c9-f7ee6e492187",
   "metadata": {},
   "source": [
    "10 - Pick another classification model you learned about this week and repeat steps (5) – (9)."
   ]
  },
  {
   "cell_type": "code",
   "execution_count": 11,
   "id": "808bce8e-a4ab-4c71-abd2-1e9654c7fbef",
   "metadata": {},
   "outputs": [],
   "source": [
    "# We will use the Random Forest Classifier\n",
    "from sklearn.ensemble import RandomForestClassifier\n",
    "\n",
    "# Create a random forest classifier objet\n",
    "randomforest = RandomForestClassifier(random_state=0, n_jobs=-1)\n",
    "\n",
    "# Train a logistic regression using the training data.\n",
    "model_randomforest = randomforest.fit(features_train_vect, target_train)"
   ]
  },
  {
   "cell_type": "code",
   "execution_count": 12,
   "id": "b96b0b71-19e4-4d66-90ef-d096fe1006c5",
   "metadata": {},
   "outputs": [
    {
     "name": "stdout",
     "output_type": "stream",
     "text": [
      "The accuracy of the model using Random Forest Classifier is  0.8418\n"
     ]
    }
   ],
   "source": [
    "# Find the model accuracy on test set.\n",
    "# Predict sentiment labels for the test set\n",
    "predictions_RandomForest = model_randomforest.predict(features_test_vect)\n",
    "\n",
    "# Calculate accuracy\n",
    "accuracy_RandomForest = accuracy_score(target_test, predictions_RandomForest)\n",
    "\n",
    "# Print accuracy\n",
    "print(\"The accuracy of the model using Random Forest Classifier is \", accuracy_RandomForest)"
   ]
  },
  {
   "cell_type": "code",
   "execution_count": 13,
   "id": "dfad2c52-0739-4fa5-84a4-3458a257ca7f",
   "metadata": {},
   "outputs": [
    {
     "name": "stdout",
     "output_type": "stream",
     "text": [
      "Confusion matrix\n"
     ]
    },
    {
     "data": {
      "text/plain": [
       "array([[2154,  394],\n",
       "       [ 397, 2055]], dtype=int64)"
      ]
     },
     "execution_count": 13,
     "metadata": {},
     "output_type": "execute_result"
    }
   ],
   "source": [
    "from sklearn.metrics import confusion_matrix\n",
    "\n",
    "# Create a confusion matrix for the test set predictions.\n",
    "confusion_matrix_RandomForest = confusion_matrix(target_test, predictions_RandomForest)\n",
    "\n",
    "# Printing the confusion matrix\n",
    "print(\"Confusion matrix\")\n",
    "confusion_matrix_RandomForest"
   ]
  },
  {
   "cell_type": "code",
   "execution_count": 14,
   "id": "bef0bd72-e798-486f-900f-8959150b6f08",
   "metadata": {},
   "outputs": [
    {
     "name": "stdout",
     "output_type": "stream",
     "text": [
      "The precision is  0.8391180073499388\n",
      "The recall is  0.8380913539967374\n",
      "The f1 score is  0.8386043664558255\n",
      "\n",
      "Classification report\n",
      "              precision    recall  f1-score   support\n",
      "\n",
      "           0       0.84      0.85      0.84      2548\n",
      "           1       0.84      0.84      0.84      2452\n",
      "\n",
      "    accuracy                           0.84      5000\n",
      "   macro avg       0.84      0.84      0.84      5000\n",
      "weighted avg       0.84      0.84      0.84      5000\n",
      "\n"
     ]
    }
   ],
   "source": [
    "# Get the precision, recall, and F1-score for the test set predictions.\n",
    "from sklearn.metrics import precision_score, recall_score, f1_score\n",
    "from sklearn.metrics import classification_report\n",
    "# Precision\n",
    "precision_RandomForest = precision_score(target_test, predictions_RandomForest)\n",
    "print(\"The precision is \", precision_RandomForest)\n",
    "\n",
    "# Recall\n",
    "recall_RandomForest = recall_score(target_test, predictions_RandomForest)\n",
    "print(\"The recall is \", recall_RandomForest)\n",
    "\n",
    "# F1 score\n",
    "f1_score_RandomForest = f1_score(target_test, predictions_RandomForest)\n",
    "print(\"The f1 score is \", f1_score_RandomForest)\n",
    "\n",
    "\n",
    "# Getting a classification Report\n",
    "print(\"\\nClassification report\")\n",
    "print(classification_report(target_test, predictions_RandomForest))"
   ]
  },
  {
   "cell_type": "code",
   "execution_count": 15,
   "id": "ce2300b3-9f90-4609-b1cd-149c60d4bc86",
   "metadata": {},
   "outputs": [
    {
     "data": {
      "image/png": "[encoded data removed]",
      "text/plain": [
       "<Figure size 640x480 with 1 Axes>"
      ]
     },
     "metadata": {},
     "output_type": "display_data"
    }
   ],
   "source": [
    "# Create a ROC curve for the test set.\n",
    "import matplotlib.pyplot as plt\n",
    "from sklearn.metrics import roc_curve, roc_auc_score\n",
    "\n",
    "# Get the predicted probabilities\n",
    "target_probabilities_RandomForest = model.predict_proba(features_test_vect)[:,1]\n",
    "\n",
    "# Create tue and false positive rates\n",
    "false_positive_rate_RandomForest, true_positive_rate_RandomForest, threshold_RandomForest = roc_curve(target_test, predictions_RandomForest)\n",
    "\n",
    "# Plotting the ROC curve for the test set\n",
    "plt.title(\"Receiver Operating Characteristic ROC\")\n",
    "plt.plot(false_positive_rate_RandomForest, true_positive_rate_RandomForest)\n",
    "plt.plot([0,1], ls=\"--\")\n",
    "plt.plot([0,0],[1,0], c=\".7\",), plt.plot([1,1], c=\".7\")\n",
    "plt.ylabel(\"True Positive Rate\")\n",
    "plt.xlabel(\"False Positive Rate\")\n",
    "plt.show()"
   ]
  }
 ],
 "metadata": {
  "kernelspec": {
   "display_name": "Python 3 (ipykernel)",
   "language": "python",
   "name": "python3"
  },
  "language_info": {
   "codemirror_mode": {
    "name": "ipython",
    "version": 3
   },
   "file_extension": ".py",
   "mimetype": "text/x-python",
   "name": "python",
   "nbconvert_exporter": "python",
   "pygments_lexer": "ipython3",
   "version": "3.11.7"
  }
 },
 "nbformat": 4,
 "nbformat_minor": 5
}
