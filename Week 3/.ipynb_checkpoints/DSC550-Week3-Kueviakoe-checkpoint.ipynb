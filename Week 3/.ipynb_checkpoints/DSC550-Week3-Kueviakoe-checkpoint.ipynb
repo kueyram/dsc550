{
 "cells": [
  {
   "cell_type": "raw",
   "id": "bed1ed7f",
   "metadata": {},
   "source": [
    "DSC 550 - Data Mining\n",
    "Week 3 Assignment\n",
    "Eyram Kueviakoe\n",
    "03/29/2024"
   ]
  },
  {
   "cell_type": "raw",
   "id": "300dc4f0",
   "metadata": {},
   "source": [
    "Part 1: Using the TextBlob Sentiment Analyzer"
   ]
  },
  {
   "cell_type": "raw",
   "id": "eb704452",
   "metadata": {},
   "source": [
    "1- Import the movie review data as a data frame and ensure that the data is loaded properly."
   ]
  },
  {
   "cell_type": "code",
   "execution_count": 1,
   "id": "752d0c6b",
   "metadata": {},
   "outputs": [],
   "source": [
    "# Importint the pandas library\n",
    "import pandas as pd"
   ]
  },
  {
   "cell_type": "code",
   "execution_count": 2,
   "id": "7e78123c",
   "metadata": {},
   "outputs": [],
   "source": [
    "# Reading the dataset into pandas\n",
    "labeledTrainData = pd.read_csv('labeledTrainData.tsv', sep='\\t')"
   ]
  },
  {
   "cell_type": "code",
   "execution_count": 3,
   "id": "f66bbc4c",
   "metadata": {},
   "outputs": [
    {
     "name": "stdout",
     "output_type": "stream",
     "text": [
      "Index(['id', 'sentiment', 'review'], dtype='object')\n"
     ]
    }
   ],
   "source": [
    "# List of columns\n",
    "print(labeledTrainData.columns)"
   ]
  },
  {
   "cell_type": "code",
   "execution_count": 4,
   "id": "672fa3ea",
   "metadata": {},
   "outputs": [
    {
     "name": "stdout",
     "output_type": "stream",
     "text": [
      "       id  sentiment                                             review\n",
      "0  5814_8          1  With all this stuff going down at the moment w...\n",
      "1  2381_9          1  \\The Classic War of the Worlds\\\" by Timothy Hi...\n",
      "2  7759_3          0  The film starts with a manager (Nicholas Bell)...\n",
      "3  3630_4          0  It must be assumed that those who praised this...\n",
      "4  9495_8          1  Superbly trashy and wondrously unpretentious 8...\n"
     ]
    }
   ],
   "source": [
    "# View the 5 five rows\n",
    "print(labeledTrainData.head(5))"
   ]
  },
  {
   "cell_type": "raw",
   "id": "08aab2b2",
   "metadata": {},
   "source": [
    "2- How many of each positive and negative reviews are there?"
   ]
  },
  {
   "cell_type": "code",
   "execution_count": 5,
   "id": "085b3dd0",
   "metadata": {},
   "outputs": [
    {
     "name": "stdout",
     "output_type": "stream",
     "text": [
      "The number of positive review is : 12500\n",
      "The number of negative review is : 12500\n"
     ]
    }
   ],
   "source": [
    "# Initialize the positive and negative reviews count\n",
    "positive_count = 0\n",
    "negative_count = 0\n",
    "\n",
    "# Loop through the dataset\n",
    "for sentiment in labeledTrainData['sentiment']:\n",
    "    if sentiment > 0:\n",
    "        positive_count += 1\n",
    "    else:\n",
    "        negative_count += 1\n",
    "\n",
    "# Print the results\n",
    "print(\"The number of positive review is :\", positive_count)\n",
    "print(\"The number of negative review is :\", negative_count)"
   ]
  },
  {
   "cell_type": "raw",
   "id": "8853b35c",
   "metadata": {},
   "source": [
    "3- Use TextBlob to classify each movie review as positive or negative. Assume that a polarity score greater than or equal to zero is a positive sentiment and less than 0 is a negative sentiment."
   ]
  },
  {
   "cell_type": "code",
   "execution_count": 6,
   "id": "5ade723f",
   "metadata": {},
   "outputs": [
    {
     "name": "stdout",
     "output_type": "stream",
     "text": [
      "The number of positive review is : 19017\n",
      "The number of negative review is : 5983\n",
      "The dataset with the new column\n",
      "       id  sentiment                                             review  \\\n",
      "0  5814_8          1  With all this stuff going down at the moment w...   \n",
      "1  2381_9          1  \\The Classic War of the Worlds\\\" by Timothy Hi...   \n",
      "2  7759_3          0  The film starts with a manager (Nicholas Bell)...   \n",
      "3  3630_4          0  It must be assumed that those who praised this...   \n",
      "4  9495_8          1  Superbly trashy and wondrously unpretentious 8...   \n",
      "\n",
      "  predicted_sentiment  \n",
      "0            Positive  \n",
      "1            Positive  \n",
      "2            Negative  \n",
      "3            Positive  \n",
      "4            Negative  \n"
     ]
    }
   ],
   "source": [
    "from textblob import TextBlob\n",
    "\n",
    "# Initialize positive and negative reviews count\n",
    "positive_count = 0\n",
    "negative_count = 0\n",
    "\n",
    "# Initialize a list to store the sentiment\n",
    "predicted_sentiment = []\n",
    "\n",
    "# Loop through the dataset\n",
    "for review in labeledTrainData['review']:\n",
    "    polarity = TextBlob(str(review)).polarity\n",
    "\n",
    "  # Let's classify based on polarity\n",
    "    if polarity >= 0:\n",
    "        sentiment = \"Positive\"\n",
    "        positive_count += 1\n",
    "    else:\n",
    "        sentiment = \"Negative\"\n",
    "        negative_count += 1\n",
    "    \n",
    "    # Add the sentiment to the list\n",
    "    predicted_sentiment.append(sentiment)\n",
    "\n",
    "# Add the new column to the dataset\n",
    "labeledTrainData['predicted_sentiment'] = predicted_sentiment\n",
    "\n",
    "# Print the results\n",
    "print(\"The number of positive review is :\", positive_count)\n",
    "print(\"The number of negative review is :\", negative_count)\n",
    "\n",
    "# Print the first few rows of the DataFrame with sentiment column added\n",
    "print(\"The dataset with the new column\")\n",
    "labeledTrainData.head(5)"
   ]
  },
  {
   "cell_type": "raw",
   "id": "9dc04ce6",
   "metadata": {},
   "source": [
    "4- Check the accuracy of this model. Is this model better than random guessing?"
   ]
  },
  {
   "cell_type": "raw",
   "id": "de3827de",
   "metadata": {},
   "source": [
    "To check the accuracy of the model, we will compare the predicted sentiment with the actual sentiment in the dataset.\n",
    "We will first convert the predicted sentiment to numeric values of 0 and 1 and the compare each row."
   ]
  },
  {
   "cell_type": "raw",
   "id": "eaf90e44",
   "metadata": {},
   "source": [
    "We are going to manually calculate the accuracy and then compare the result with accuracy_score"
   ]
  },
  {
   "cell_type": "code",
   "execution_count": 7,
   "id": "f276b79e",
   "metadata": {},
   "outputs": [
    {
     "name": "stdout",
     "output_type": "stream",
     "text": [
      "The total count is : 25000\n",
      "The matching of correct sentiment is : 17131\n",
      "The accuracy is : 68.524 %\n"
     ]
    }
   ],
   "source": [
    "# Let's initialize the counters\n",
    "correct_count = 0\n",
    "total_count = 0\n",
    "\n",
    "# Loop through the dataset and convert Positive sentiment to 1 and Negative to 0\n",
    "for sentiment, predicted_sentiment in zip(labeledTrainData['sentiment'], labeledTrainData['predicted_sentiment']):\n",
    "    if predicted_sentiment == 'Positive':\n",
    "        predicted_sentiment_num = 1\n",
    "    else:\n",
    "        predicted_sentiment_num = 0\n",
    "    \n",
    "    # Increment the number of count\n",
    "    total_count += 1\n",
    "    \n",
    "    # compare the predicted value with the actual sentiment value in the dataset\n",
    "    if sentiment == predicted_sentiment_num:\n",
    "        correct_count += 1\n",
    "# Let's calculate the accuracy\n",
    "accuracy = (correct_count/total_count)*100\n",
    "        \n",
    "print(\"The total count is :\", total_count)\n",
    "print(\"The matching of correct sentiment is :\", correct_count)\n",
    "print(\"The accuracy is :\", accuracy, \"%\")"
   ]
  },
  {
   "cell_type": "raw",
   "id": "d54ea991",
   "metadata": {},
   "source": [
    "Let's use accuracy_score to calculate the accuracy from sklearn to calculate the accuracy"
   ]
  },
  {
   "cell_type": "code",
   "execution_count": 8,
   "id": "a3844892",
   "metadata": {},
   "outputs": [
    {
     "name": "stdout",
     "output_type": "stream",
     "text": [
      "The accuracy is : 68.524 %\n"
     ]
    }
   ],
   "source": [
    "from sklearn.metrics import accuracy_score\n",
    "# Initialize a list to store the predicted sentiments\n",
    "predicted_sentiments_sklearn = []\n",
    "\n",
    "# Loop through the dataset\n",
    "for review in labeledTrainData['review']:\n",
    "    polarity = TextBlob(str(review)).polarity\n",
    "\n",
    "    # Classify sentiment based on polarity\n",
    "    if polarity >= 0:\n",
    "        predicted_sentiments_sklearn.append(1)  # Positive sentiment\n",
    "    else:\n",
    "        predicted_sentiments_sklearn.append(0)  # Negative sentiment\n",
    "\n",
    "# Add the predicted sentiments to the DataFrame\n",
    "labeledTrainData['predicted_sentiments_sklearn'] = predicted_sentiments_sklearn\n",
    "\n",
    "# Calculate accuracy using sklearn\n",
    "accuracy = accuracy_score(labeledTrainData['sentiment'], labeledTrainData['predicted_sentiments_sklearn'])\n",
    "\n",
    "print(\"The accuracy is :\", accuracy * 100, \"%\")"
   ]
  },
  {
   "cell_type": "raw",
   "id": "08b271ac",
   "metadata": {},
   "source": [
    "The accuracy of the model is 68.52%\n",
    "If we consider that the accuracy of random guessing is 50%, we can conclude that this model is more accurate, thus better than random guessing."
   ]
  },
  {
   "cell_type": "raw",
   "id": "21f5d59f",
   "metadata": {},
   "source": [
    "5- For up to five points extra credit, use another prebuilt text sentiment analyzer, e.g., VADER, and repeat steps (3) and (4)."
   ]
  },
  {
   "cell_type": "code",
   "execution_count": 9,
   "id": "f2a60cc6",
   "metadata": {},
   "outputs": [],
   "source": [
    "# Importing the pandas library\n",
    "import pandas as pd\n",
    "\n",
    "# Reading the dataset into pandas\n",
    "labeledTrainData = pd.read_csv('labeledTrainData.tsv', sep='\\t')"
   ]
  },
  {
   "cell_type": "code",
   "execution_count": 10,
   "id": "ad14d0a5",
   "metadata": {},
   "outputs": [
    {
     "name": "stdout",
     "output_type": "stream",
     "text": [
      "The number of positive reviews is: 16507\n",
      "The number of negative reviews is: 8306\n",
      "The number of neutral reviews is: 187\n",
      "The dataset with the new columns:\n",
      "       id  sentiment                                             review  \\\n",
      "0  5814_8          1  With all this stuff going down at the moment w...   \n",
      "1  2381_9          1  \\The Classic War of the Worlds\\\" by Timothy Hi...   \n",
      "2  7759_3          0  The film starts with a manager (Nicholas Bell)...   \n",
      "3  3630_4          0  It must be assumed that those who praised this...   \n",
      "4  9495_8          1  Superbly trashy and wondrously unpretentious 8...   \n",
      "\n",
      "  predicted_sentiment  predicted_sentiment_num  \n",
      "0            Negative                        0  \n",
      "1            Positive                        1  \n",
      "2            Negative                        0  \n",
      "3            Negative                        0  \n",
      "4            Positive                        1  \n"
     ]
    }
   ],
   "source": [
    "from vaderSentiment.vaderSentiment import SentimentIntensityAnalyzer\n",
    "\n",
    "# Initialize positive, negative, and neutral reviews count\n",
    "positive_count = 0\n",
    "negative_count = 0\n",
    "neutral_count = 0\n",
    "\n",
    "# Initialize lists to store the predicted sentiment\n",
    "predicted_sentiment = []\n",
    "predicted_sentiment_num = []  # The numerical value of the predicted sentiment\n",
    "# For the assigned, a negative sentiment is 0, positive is 1\n",
    "# We will use 2 for neutral sentiment\n",
    "\n",
    "# Create a SentimentIntensityAnalyzer object\n",
    "sid_obj = SentimentIntensityAnalyzer()\n",
    "\n",
    "# Iterate through each review\n",
    "for review in labeledTrainData['review']:\n",
    "    # Get sentiment scores using Vader\n",
    "    sentiment_dict = sid_obj.polarity_scores(review)\n",
    "    \n",
    "    # Use the compound score to decide if the review is positive, negative, or neutral\n",
    "    if sentiment_dict['compound'] >= 0.05:\n",
    "        sentiment = \"Positive\"\n",
    "        sentiment_num = 1\n",
    "        positive_count += 1\n",
    "    elif sentiment_dict['compound'] <= -0.05:\n",
    "        sentiment = \"Negative\"\n",
    "        sentiment_num = 0\n",
    "        negative_count += 1\n",
    "    else:\n",
    "        sentiment = \"Neutral\"\n",
    "        sentiment_num = 2\n",
    "        neutral_count += 1\n",
    "    \n",
    "    # Add the sentiment to the lists\n",
    "    predicted_sentiment.append(sentiment)\n",
    "    predicted_sentiment_num.append(sentiment_num)\n",
    "\n",
    "\n",
    "# Add the predicted sentiment and its numerical value to the dataset as new columns\n",
    "labeledTrainData['predicted_sentiment'] = predicted_sentiment\n",
    "labeledTrainData['predicted_sentiment_num'] = predicted_sentiment_num\n",
    "\n",
    "# Print the results\n",
    "print(\"The number of positive reviews is:\", positive_count)\n",
    "print(\"The number of negative reviews is:\", negative_count)\n",
    "print(\"The number of neutral reviews is:\", neutral_count)\n",
    "\n",
    "# Print the first few rows of the DataFrame with the new sentiment columns\n",
    "print(\"The dataset with the new columns:\")\n",
    "labeledTrainData.head(5)"
   ]
  },
  {
   "cell_type": "code",
   "execution_count": 11,
   "id": "dd629264",
   "metadata": {},
   "outputs": [
    {
     "name": "stdout",
     "output_type": "stream",
     "text": [
      "The accuracy using VADER is : 69.016 %\n"
     ]
    }
   ],
   "source": [
    "from sklearn.metrics import accuracy_score\n",
    "\n",
    "# Calculate accuracy using sklearn\n",
    "accuracy = accuracy_score(labeledTrainData['sentiment'], labeledTrainData['predicted_sentiment_num'])\n",
    "\n",
    "print(\"The accuracy using VADER is :\", accuracy * 100, \"%\")\n"
   ]
  },
  {
   "cell_type": "raw",
   "id": "8b5f6e36",
   "metadata": {},
   "source": [
    "The accuracy of the model using VADER is 69.016 %. This model is better than a random guess because the accuracy of a random guess is 50%"
   ]
  },
  {
   "cell_type": "raw",
   "id": "a246f260",
   "metadata": {},
   "source": [
    "Part 2: Prepping Text for a Custom Model"
   ]
  },
  {
   "cell_type": "code",
   "execution_count": 12,
   "id": "4f9ac6ea",
   "metadata": {},
   "outputs": [],
   "source": [
    "# Importing the pandas library\n",
    "import pandas as pd\n",
    "\n",
    "# Reading the dataset into pandas\n",
    "labeledTrainData = pd.read_csv('labeledTrainData.tsv', sep='\\t')"
   ]
  },
  {
   "cell_type": "raw",
   "id": "22251d66",
   "metadata": {},
   "source": [
    "1. Convert all text to lowercase letters."
   ]
  },
  {
   "cell_type": "code",
   "execution_count": 13,
   "id": "29be40d4",
   "metadata": {},
   "outputs": [],
   "source": [
    "# Function to convert a text to lower case\n",
    "\n",
    "def lower_case(text):\n",
    "    text = text.lower()\n",
    "    return text\n",
    "\n",
    "# Let's apply the function to our dataset\n",
    "labeledTrainData['review_processed'] = labeledTrainData['review'].apply(lower_case)\n",
    "\n",
    "# Display the dataset with the new column\n",
    "labeledTrainData.head(5)"
   ]
  },
  {
   "cell_type": "code",
   "execution_count": 14,
   "id": "b1c22725",
   "metadata": {},
   "outputs": [
    {
     "data": {
      "text/html": [
       "<div>\n",
       "<style scoped>\n",
       "    .dataframe tbody tr th:only-of-type {\n",
       "        vertical-align: middle;\n",
       "    }\n",
       "\n",
       "    .dataframe tbody tr th {\n",
       "        vertical-align: top;\n",
       "    }\n",
       "\n",
       "    .dataframe thead th {\n",
       "        text-align: right;\n",
       "    }\n",
       "</style>\n",
       "<table border=\"1\" class=\"dataframe\">\n",
       "  <thead>\n",
       "    <tr style=\"text-align: right;\">\n",
       "      <th></th>\n",
       "      <th>id</th>\n",
       "      <th>sentiment</th>\n",
       "      <th>review</th>\n",
       "      <th>review_processed</th>\n",
       "    </tr>\n",
       "  </thead>\n",
       "  <tbody>\n",
       "    <tr>\n",
       "      <th>0</th>\n",
       "      <td>5814_8</td>\n",
       "      <td>1</td>\n",
       "      <td>With all this stuff going down at the moment w...</td>\n",
       "      <td>with all this stuff going down at the moment w...</td>\n",
       "    </tr>\n",
       "    <tr>\n",
       "      <th>1</th>\n",
       "      <td>2381_9</td>\n",
       "      <td>1</td>\n",
       "      <td>\\The Classic War of the Worlds\\\" by Timothy Hi...</td>\n",
       "      <td>\\the classic war of the worlds\\\" by timothy hi...</td>\n",
       "    </tr>\n",
       "    <tr>\n",
       "      <th>2</th>\n",
       "      <td>7759_3</td>\n",
       "      <td>0</td>\n",
       "      <td>The film starts with a manager (Nicholas Bell)...</td>\n",
       "      <td>the film starts with a manager (nicholas bell)...</td>\n",
       "    </tr>\n",
       "    <tr>\n",
       "      <th>3</th>\n",
       "      <td>3630_4</td>\n",
       "      <td>0</td>\n",
       "      <td>It must be assumed that those who praised this...</td>\n",
       "      <td>it must be assumed that those who praised this...</td>\n",
       "    </tr>\n",
       "    <tr>\n",
       "      <th>4</th>\n",
       "      <td>9495_8</td>\n",
       "      <td>1</td>\n",
       "      <td>Superbly trashy and wondrously unpretentious 8...</td>\n",
       "      <td>superbly trashy and wondrously unpretentious 8...</td>\n",
       "    </tr>\n",
       "  </tbody>\n",
       "</table>\n",
       "</div>"
      ],
      "text/plain": [
       "       id  sentiment                                             review  \\\n",
       "0  5814_8          1  With all this stuff going down at the moment w...   \n",
       "1  2381_9          1  \\The Classic War of the Worlds\\\" by Timothy Hi...   \n",
       "2  7759_3          0  The film starts with a manager (Nicholas Bell)...   \n",
       "3  3630_4          0  It must be assumed that those who praised this...   \n",
       "4  9495_8          1  Superbly trashy and wondrously unpretentious 8...   \n",
       "\n",
       "                                    review_processed  \n",
       "0  with all this stuff going down at the moment w...  \n",
       "1  \\the classic war of the worlds\\\" by timothy hi...  \n",
       "2  the film starts with a manager (nicholas bell)...  \n",
       "3  it must be assumed that those who praised this...  \n",
       "4  superbly trashy and wondrously unpretentious 8...  "
      ]
     },
     "execution_count": 14,
     "metadata": {},
     "output_type": "execute_result"
    }
   ],
   "source": []
  },
  {
   "cell_type": "raw",
   "id": "de441078",
   "metadata": {},
   "source": [
    "2- Remove punctuation and special characters from the text."
   ]
  },
  {
   "cell_type": "code",
   "execution_count": 15,
   "id": "d69648c0",
   "metadata": {},
   "outputs": [],
   "source": [
    "# Function to remove punctuation and special characters from the text\n",
    "def remove_punct_spec_car(text):\n",
    "    symbols_to_remove = [',', ';', '?', '$', '.', ':', '!', '[', ']', '(', ')', '\\\\', '-', '\"', \"'\"]\n",
    "    # Loop through the symbols and remove them from the text\n",
    "    for symbol in symbols_to_remove:\n",
    "        text = text.replace(symbol, \" \")\n",
    "    return text\n",
    "\n",
    "# Let's apply the function to the dataset\n",
    "labeledTrainData['review_processed'] = labeledTrainData['review_processed'].apply(remove_punct_spec_car)\n",
    "\n",
    "# Display the dataset with the modified column\n",
    "labeledTrainData.head(5)"
   ]
  },
  {
   "cell_type": "code",
   "execution_count": 17,
   "id": "ed99e398",
   "metadata": {},
   "outputs": [],
   "source": [
    "# Let's combien the 2 functions\n",
    "def  prep_text(text):\n",
    "    symbols_to_remove = [',', ';', '?', '$', '.', ':', '!', '[', ']', '(', ')', '\\\\', '-', '\"', \"'\"]\n",
    "    # Convert to lower case\n",
    "    text = text.lower()\n",
    "    # Remove punctuation and special characters\n",
    "    for symbol in symbols_to_remove:\n",
    "        text = text.replace(symbol, \" \")\n",
    "    return text"
   ]
  },
  {
   "cell_type": "raw",
   "id": "61bf1e72",
   "metadata": {},
   "source": [
    "3- Remove stop words."
   ]
  },
  {
   "cell_type": "code",
   "execution_count": 18,
   "id": "302c7b8f",
   "metadata": {},
   "outputs": [
    {
     "data": {
      "text/html": [
       "<div>\n",
       "<style scoped>\n",
       "    .dataframe tbody tr th:only-of-type {\n",
       "        vertical-align: middle;\n",
       "    }\n",
       "\n",
       "    .dataframe tbody tr th {\n",
       "        vertical-align: top;\n",
       "    }\n",
       "\n",
       "    .dataframe thead th {\n",
       "        text-align: right;\n",
       "    }\n",
       "</style>\n",
       "<table border=\"1\" class=\"dataframe\">\n",
       "  <thead>\n",
       "    <tr style=\"text-align: right;\">\n",
       "      <th></th>\n",
       "      <th>id</th>\n",
       "      <th>sentiment</th>\n",
       "      <th>review</th>\n",
       "      <th>review_processed</th>\n",
       "    </tr>\n",
       "  </thead>\n",
       "  <tbody>\n",
       "    <tr>\n",
       "      <th>0</th>\n",
       "      <td>5814_8</td>\n",
       "      <td>1</td>\n",
       "      <td>With all this stuff going down at the moment w...</td>\n",
       "      <td>[with, all, this, stuff, going, down, at, the,...</td>\n",
       "    </tr>\n",
       "    <tr>\n",
       "      <th>1</th>\n",
       "      <td>2381_9</td>\n",
       "      <td>1</td>\n",
       "      <td>\\The Classic War of the Worlds\\\" by Timothy Hi...</td>\n",
       "      <td>[the, classic, war, of, the, worlds, by, timot...</td>\n",
       "    </tr>\n",
       "    <tr>\n",
       "      <th>2</th>\n",
       "      <td>7759_3</td>\n",
       "      <td>0</td>\n",
       "      <td>The film starts with a manager (Nicholas Bell)...</td>\n",
       "      <td>[the, film, starts, with, a, manager, nicholas...</td>\n",
       "    </tr>\n",
       "    <tr>\n",
       "      <th>3</th>\n",
       "      <td>3630_4</td>\n",
       "      <td>0</td>\n",
       "      <td>It must be assumed that those who praised this...</td>\n",
       "      <td>[it, must, be, assumed, that, those, who, prai...</td>\n",
       "    </tr>\n",
       "    <tr>\n",
       "      <th>4</th>\n",
       "      <td>9495_8</td>\n",
       "      <td>1</td>\n",
       "      <td>Superbly trashy and wondrously unpretentious 8...</td>\n",
       "      <td>[superbly, trashy, and, wondrously, unpretenti...</td>\n",
       "    </tr>\n",
       "  </tbody>\n",
       "</table>\n",
       "</div>"
      ],
      "text/plain": [
       "       id  sentiment                                             review  \\\n",
       "0  5814_8          1  With all this stuff going down at the moment w...   \n",
       "1  2381_9          1  \\The Classic War of the Worlds\\\" by Timothy Hi...   \n",
       "2  7759_3          0  The film starts with a manager (Nicholas Bell)...   \n",
       "3  3630_4          0  It must be assumed that those who praised this...   \n",
       "4  9495_8          1  Superbly trashy and wondrously unpretentious 8...   \n",
       "\n",
       "                                    review_processed  \n",
       "0  [with, all, this, stuff, going, down, at, the,...  \n",
       "1  [the, classic, war, of, the, worlds, by, timot...  \n",
       "2  [the, film, starts, with, a, manager, nicholas...  \n",
       "3  [it, must, be, assumed, that, those, who, prai...  \n",
       "4  [superbly, trashy, and, wondrously, unpretenti...  "
      ]
     },
     "execution_count": 18,
     "metadata": {},
     "output_type": "execute_result"
    }
   ],
   "source": [
    "# To remove the stop words, we need to tokenize in words\n",
    "from nltk.tokenize import word_tokenize\n",
    "def text_tokenize(text):\n",
    "    word_tokenized = word_tokenize(text)\n",
    "    return word_tokenized\n",
    "\n",
    "labeledTrainData['review_processed'] = labeledTrainData['review_processed'].apply(text_tokenize)\n",
    "\n",
    "# Display the dataset with the modified column\n",
    "labeledTrainData.head(5)"
   ]
  },
  {
   "cell_type": "code",
   "execution_count": 19,
   "id": "70f630bb",
   "metadata": {},
   "outputs": [],
   "source": [
    "# Load library\n",
    "import nltk\n",
    "from nltk.tokenize import word_tokenize\n",
    "from nltk.corpus import stopwords\n",
    "\n",
    "# Download the stop words\n",
    "# nltk.download('stopwords')\n",
    "\n",
    "# Function to remove the stop words\n",
    "def remove_stop_words(text):\n",
    "    # Load the stop words\n",
    "    stop_words = stopwords.words('english')\n",
    "\n",
    "    # Remove the stop words\n",
    "    text_modified = [word for word in text if word not in stop_words]\n",
    "    \n",
    "    return text_modified\n",
    "\n",
    "# Apply the function to the dataset\n",
    "labeledTrainData['review_processed'] = labeledTrainData['review_processed'].apply(remove_stop_words)\n",
    "\n",
    "# Display the dataset with the modified column\n",
    "labeledTrainData.head(5)"
   ]
  },
  {
   "cell_type": "raw",
   "id": "0b5dc981",
   "metadata": {},
   "source": [
    "Apply NLTK’s PorterStemmer."
   ]
  },
  {
   "cell_type": "code",
   "execution_count": 21,
   "id": "30c8a0ad",
   "metadata": {},
   "outputs": [],
   "source": [
    "# Load library\n",
    "from nltk.stem.porter import PorterStemmer\n",
    "\n",
    "def porter_stemmer(text):\n",
    "    # Create stemmer\n",
    "    porter = PorterStemmer()\n",
    "    \n",
    "    # Apply stemmer\n",
    "    text_porterstemmer = [porter.stem(word) for word in text]\n",
    "    return text_porterstemmer\n",
    "\n",
    "\n",
    "# Apply the function\n",
    "labeledTrainData['review_processed'] = labeledTrainData['review_processed'].apply(porter_stemmer)\n",
    "\n",
    "# Display the dataset with the modified column\n",
    "labeledTrainData.head(5)"
   ]
  },
  {
   "cell_type": "raw",
   "id": "a4bbcf97",
   "metadata": {},
   "source": [
    "5- Create a bag-of-words matrix from your stemmed text (output from (4)), where each row is a word-count vector for a single movie review (see sections 5.3 & 6.8 in the Machine Learning with Python Cookbook). Display the dimensions of your bag-of-words matrix. The number of rows in this matrix should be the same as the number of rows in your original data frame"
   ]
  },
  {
   "cell_type": "code",
   "execution_count": 23,
   "id": "d1b7b4ca",
   "metadata": {},
   "outputs": [
    {
     "data": {
      "text/plain": [
       "<25000x52189 sparse matrix of type '<class 'numpy.int64'>'\n",
       "\twith 2384138 stored elements in Compressed Sparse Row format>"
      ]
     },
     "execution_count": 23,
     "metadata": {},
     "output_type": "execute_result"
    }
   ],
   "source": [
    "# Loading the libraries\n",
    "import numpy as np\n",
    "from sklearn.feature_extraction.text import CountVectorizer\n",
    "\n",
    "# Let's join the list of wor into strings before creating the matrix\n",
    "labeledTrainData['review_processed'] = labeledTrainData['review_processed'].apply(lambda words: ' '.join(words))\n",
    "\n",
    "# Create the bag of words feature matrix\n",
    "count = CountVectorizer()\n",
    "bag_of_words = count.fit_transform(labeledTrainData['review_processed'])\n",
    "\n",
    "# Show feature matrix\n",
    "bag_of_words\n"
   ]
  },
  {
   "cell_type": "code",
   "execution_count": 24,
   "id": "29e7446f",
   "metadata": {},
   "outputs": [
    {
     "name": "stdout",
     "output_type": "stream",
     "text": [
      "The dimension of the bag of words is : (25000, 52189)\n"
     ]
    }
   ],
   "source": [
    "# Dimensions of the bag_of_words matrix\n",
    "dimension = bag_of_words.shape\n",
    "print(\"The dimension of the bag of words is :\", dimension)"
   ]
  },
  {
   "cell_type": "raw",
   "id": "cfb1bda7",
   "metadata": {},
   "source": [
    "6- Create a term frequency-inverse document frequency (tf-idf) matrix from your stemmed text, for your movie reviews (see section 6.9 in the Machine Learning with Python Cookbook). Display the dimensions of your tf-idf matrix. These dimensions should be the same as your bag-of-words matrix."
   ]
  },
  {
   "cell_type": "code",
   "execution_count": 25,
   "id": "a1bbdd26",
   "metadata": {},
   "outputs": [
    {
     "data": {
      "text/plain": [
       "<25000x52189 sparse matrix of type '<class 'numpy.float64'>'\n",
       "\twith 2384138 stored elements in Compressed Sparse Row format>"
      ]
     },
     "execution_count": 25,
     "metadata": {},
     "output_type": "execute_result"
    }
   ],
   "source": [
    "# Create a rf_idf matrix\n",
    "from sklearn.feature_extraction.text import TfidfVectorizer\n",
    "count_tfidf = TfidfVectorizer()\n",
    "tfidf_matrix = count_tfidf.fit_transform(labeledTrainData['review_processed'])\n",
    "\n",
    "# Show feature matrix\n",
    "tfidf_matrix"
   ]
  },
  {
   "cell_type": "code",
   "execution_count": 26,
   "id": "154d8db8",
   "metadata": {},
   "outputs": [
    {
     "name": "stdout",
     "output_type": "stream",
     "text": [
      "The dimension of the tf-idf matrix is : (25000, 52189)\n"
     ]
    }
   ],
   "source": [
    "# Dimension of the tf-idf matrix\n",
    "print(\"The dimension of the tf-idf matrix is :\", tfidf_matrix.shape)"
   ]
  }
 ],
 "metadata": {
  "kernelspec": {
   "display_name": "Python 3 (ipykernel)",
   "language": "python",
   "name": "python3"
  },
  "language_info": {
   "codemirror_mode": {
    "name": "ipython",
    "version": 3
   },
   "file_extension": ".py",
   "mimetype": "text/x-python",
   "name": "python",
   "nbconvert_exporter": "python",
   "pygments_lexer": "ipython3",
   "version": "3.11.5"
  }
 },
 "nbformat": 4,
 "nbformat_minor": 5
}
