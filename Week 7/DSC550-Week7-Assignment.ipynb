{
 "cells": [
  {
   "cell_type": "raw",
   "id": "b857c5df",
   "metadata": {},
   "source": [
    "DSC 550 - Data Mining\n",
    "Week 7 Assignment\n",
    "04/27/2024"
   ]
  },
  {
   "cell_type": "raw",
   "id": "7026c8e4",
   "metadata": {},
   "source": [
    "7.2 Exercise: Dimensionality Reduction and Feature Selection"
   ]
  },
  {
   "cell_type": "raw",
   "id": "1bd4ae69",
   "metadata": {},
   "source": [
    "Part 1: PCA and Variance Threshold in a Linear Regression"
   ]
  },
  {
   "cell_type": "code",
   "execution_count": 1,
   "id": "dd4aaa4a",
   "metadata": {},
   "outputs": [],
   "source": [
    "# Importing librairies\n",
    "import pandas as pd\n",
    "import numpy as np\n",
    "from sklearn.model_selection import train_test_split\n",
    "from sklearn.linear_model import LinearRegression\n",
    "from sklearn.metrics import r2_score, mean_squared_error\n",
    "from sklearn.decomposition import PCA\n",
    "from sklearn.preprocessing import StandardScaler\n",
    "from sklearn.preprocessing import MinMaxScaler\n",
    "from sklearn.feature_selection import VarianceThreshold"
   ]
  },
  {
   "cell_type": "raw",
   "id": "37c93621",
   "metadata": {},
   "source": [
    "1. Import the housing data as a data frame and ensure that the data is loaded properly."
   ]
  },
  {
   "cell_type": "code",
   "execution_count": 2,
   "id": "a7a48544",
   "metadata": {},
   "outputs": [
    {
     "data": {
      "text/plain": [
       "Index(['Id', 'MSSubClass', 'MSZoning', 'LotFrontage', 'LotArea', 'Street',\n",
       "       'Alley', 'LotShape', 'LandContour', 'Utilities', 'LotConfig',\n",
       "       'LandSlope', 'Neighborhood', 'Condition1', 'Condition2', 'BldgType',\n",
       "       'HouseStyle', 'OverallQual', 'OverallCond', 'YearBuilt', 'YearRemodAdd',\n",
       "       'RoofStyle', 'RoofMatl', 'Exterior1st', 'Exterior2nd', 'MasVnrType',\n",
       "       'MasVnrArea', 'ExterQual', 'ExterCond', 'Foundation', 'BsmtQual',\n",
       "       'BsmtCond', 'BsmtExposure', 'BsmtFinType1', 'BsmtFinSF1',\n",
       "       'BsmtFinType2', 'BsmtFinSF2', 'BsmtUnfSF', 'TotalBsmtSF', 'Heating',\n",
       "       'HeatingQC', 'CentralAir', 'Electrical', '1stFlrSF', '2ndFlrSF',\n",
       "       'LowQualFinSF', 'GrLivArea', 'BsmtFullBath', 'BsmtHalfBath', 'FullBath',\n",
       "       'HalfBath', 'BedroomAbvGr', 'KitchenAbvGr', 'KitchenQual',\n",
       "       'TotRmsAbvGrd', 'Functional', 'Fireplaces', 'FireplaceQu', 'GarageType',\n",
       "       'GarageYrBlt', 'GarageFinish', 'GarageCars', 'GarageArea', 'GarageQual',\n",
       "       'GarageCond', 'PavedDrive', 'WoodDeckSF', 'OpenPorchSF',\n",
       "       'EnclosedPorch', '3SsnPorch', 'ScreenPorch', 'PoolArea', 'PoolQC',\n",
       "       'Fence', 'MiscFeature', 'MiscVal', 'MoSold', 'YrSold', 'SaleType',\n",
       "       'SaleCondition', 'SalePrice'],\n",
       "      dtype='object')"
      ]
     },
     "execution_count": 2,
     "metadata": {},
     "output_type": "execute_result"
    }
   ],
   "source": [
    "# Link to the dataset - I have downloaded the dataset from Kaggle and uploaded it to my github repository\n",
    "url = \"https://raw.githubusercontent.com/kueyram/dsc550/main/Week%207/train.csv\"\n",
    "\n",
    "# Reading the dataset into pandas\n",
    "housing_data = pd.read_csv(url)\n",
    "\n",
    "# Let's view the columns\n",
    "housing_data.columns"
   ]
  },
  {
   "cell_type": "code",
   "execution_count": 3,
   "id": "df8ca208",
   "metadata": {},
   "outputs": [
    {
     "data": {
      "text/html": [
       "<div>\n",
       "<style scoped>\n",
       "    .dataframe tbody tr th:only-of-type {\n",
       "        vertical-align: middle;\n",
       "    }\n",
       "\n",
       "    .dataframe tbody tr th {\n",
       "        vertical-align: top;\n",
       "    }\n",
       "\n",
       "    .dataframe thead th {\n",
       "        text-align: right;\n",
       "    }\n",
       "</style>\n",
       "<table border=\"1\" class=\"dataframe\">\n",
       "  <thead>\n",
       "    <tr style=\"text-align: right;\">\n",
       "      <th></th>\n",
       "      <th>Id</th>\n",
       "      <th>MSSubClass</th>\n",
       "      <th>MSZoning</th>\n",
       "      <th>LotFrontage</th>\n",
       "      <th>LotArea</th>\n",
       "      <th>Street</th>\n",
       "      <th>Alley</th>\n",
       "      <th>LotShape</th>\n",
       "      <th>LandContour</th>\n",
       "      <th>Utilities</th>\n",
       "      <th>...</th>\n",
       "      <th>PoolArea</th>\n",
       "      <th>PoolQC</th>\n",
       "      <th>Fence</th>\n",
       "      <th>MiscFeature</th>\n",
       "      <th>MiscVal</th>\n",
       "      <th>MoSold</th>\n",
       "      <th>YrSold</th>\n",
       "      <th>SaleType</th>\n",
       "      <th>SaleCondition</th>\n",
       "      <th>SalePrice</th>\n",
       "    </tr>\n",
       "  </thead>\n",
       "  <tbody>\n",
       "    <tr>\n",
       "      <th>0</th>\n",
       "      <td>1</td>\n",
       "      <td>60</td>\n",
       "      <td>RL</td>\n",
       "      <td>65.0</td>\n",
       "      <td>8450</td>\n",
       "      <td>Pave</td>\n",
       "      <td>NaN</td>\n",
       "      <td>Reg</td>\n",
       "      <td>Lvl</td>\n",
       "      <td>AllPub</td>\n",
       "      <td>...</td>\n",
       "      <td>0</td>\n",
       "      <td>NaN</td>\n",
       "      <td>NaN</td>\n",
       "      <td>NaN</td>\n",
       "      <td>0</td>\n",
       "      <td>2</td>\n",
       "      <td>2008</td>\n",
       "      <td>WD</td>\n",
       "      <td>Normal</td>\n",
       "      <td>208500</td>\n",
       "    </tr>\n",
       "    <tr>\n",
       "      <th>1</th>\n",
       "      <td>2</td>\n",
       "      <td>20</td>\n",
       "      <td>RL</td>\n",
       "      <td>80.0</td>\n",
       "      <td>9600</td>\n",
       "      <td>Pave</td>\n",
       "      <td>NaN</td>\n",
       "      <td>Reg</td>\n",
       "      <td>Lvl</td>\n",
       "      <td>AllPub</td>\n",
       "      <td>...</td>\n",
       "      <td>0</td>\n",
       "      <td>NaN</td>\n",
       "      <td>NaN</td>\n",
       "      <td>NaN</td>\n",
       "      <td>0</td>\n",
       "      <td>5</td>\n",
       "      <td>2007</td>\n",
       "      <td>WD</td>\n",
       "      <td>Normal</td>\n",
       "      <td>181500</td>\n",
       "    </tr>\n",
       "    <tr>\n",
       "      <th>2</th>\n",
       "      <td>3</td>\n",
       "      <td>60</td>\n",
       "      <td>RL</td>\n",
       "      <td>68.0</td>\n",
       "      <td>11250</td>\n",
       "      <td>Pave</td>\n",
       "      <td>NaN</td>\n",
       "      <td>IR1</td>\n",
       "      <td>Lvl</td>\n",
       "      <td>AllPub</td>\n",
       "      <td>...</td>\n",
       "      <td>0</td>\n",
       "      <td>NaN</td>\n",
       "      <td>NaN</td>\n",
       "      <td>NaN</td>\n",
       "      <td>0</td>\n",
       "      <td>9</td>\n",
       "      <td>2008</td>\n",
       "      <td>WD</td>\n",
       "      <td>Normal</td>\n",
       "      <td>223500</td>\n",
       "    </tr>\n",
       "    <tr>\n",
       "      <th>3</th>\n",
       "      <td>4</td>\n",
       "      <td>70</td>\n",
       "      <td>RL</td>\n",
       "      <td>60.0</td>\n",
       "      <td>9550</td>\n",
       "      <td>Pave</td>\n",
       "      <td>NaN</td>\n",
       "      <td>IR1</td>\n",
       "      <td>Lvl</td>\n",
       "      <td>AllPub</td>\n",
       "      <td>...</td>\n",
       "      <td>0</td>\n",
       "      <td>NaN</td>\n",
       "      <td>NaN</td>\n",
       "      <td>NaN</td>\n",
       "      <td>0</td>\n",
       "      <td>2</td>\n",
       "      <td>2006</td>\n",
       "      <td>WD</td>\n",
       "      <td>Abnorml</td>\n",
       "      <td>140000</td>\n",
       "    </tr>\n",
       "    <tr>\n",
       "      <th>4</th>\n",
       "      <td>5</td>\n",
       "      <td>60</td>\n",
       "      <td>RL</td>\n",
       "      <td>84.0</td>\n",
       "      <td>14260</td>\n",
       "      <td>Pave</td>\n",
       "      <td>NaN</td>\n",
       "      <td>IR1</td>\n",
       "      <td>Lvl</td>\n",
       "      <td>AllPub</td>\n",
       "      <td>...</td>\n",
       "      <td>0</td>\n",
       "      <td>NaN</td>\n",
       "      <td>NaN</td>\n",
       "      <td>NaN</td>\n",
       "      <td>0</td>\n",
       "      <td>12</td>\n",
       "      <td>2008</td>\n",
       "      <td>WD</td>\n",
       "      <td>Normal</td>\n",
       "      <td>250000</td>\n",
       "    </tr>\n",
       "  </tbody>\n",
       "</table>\n",
       "<p>5 rows × 81 columns</p>\n",
       "</div>"
      ],
      "text/plain": [
       "   Id  MSSubClass MSZoning  LotFrontage  LotArea Street Alley LotShape  \\\n",
       "0   1          60       RL         65.0     8450   Pave   NaN      Reg   \n",
       "1   2          20       RL         80.0     9600   Pave   NaN      Reg   \n",
       "2   3          60       RL         68.0    11250   Pave   NaN      IR1   \n",
       "3   4          70       RL         60.0     9550   Pave   NaN      IR1   \n",
       "4   5          60       RL         84.0    14260   Pave   NaN      IR1   \n",
       "\n",
       "  LandContour Utilities  ... PoolArea PoolQC Fence MiscFeature MiscVal MoSold  \\\n",
       "0         Lvl    AllPub  ...        0    NaN   NaN         NaN       0      2   \n",
       "1         Lvl    AllPub  ...        0    NaN   NaN         NaN       0      5   \n",
       "2         Lvl    AllPub  ...        0    NaN   NaN         NaN       0      9   \n",
       "3         Lvl    AllPub  ...        0    NaN   NaN         NaN       0      2   \n",
       "4         Lvl    AllPub  ...        0    NaN   NaN         NaN       0     12   \n",
       "\n",
       "  YrSold  SaleType  SaleCondition  SalePrice  \n",
       "0   2008        WD         Normal     208500  \n",
       "1   2007        WD         Normal     181500  \n",
       "2   2008        WD         Normal     223500  \n",
       "3   2006        WD        Abnorml     140000  \n",
       "4   2008        WD         Normal     250000  \n",
       "\n",
       "[5 rows x 81 columns]"
      ]
     },
     "execution_count": 3,
     "metadata": {},
     "output_type": "execute_result"
    }
   ],
   "source": [
    "# Let's view the first 5 rows\n",
    "housing_data.head(5)"
   ]
  },
  {
   "cell_type": "raw",
   "id": "bef6ed35",
   "metadata": {},
   "source": [
    "2. Drop the \"Id\" column and any features that are missing more than 40% of their values."
   ]
  },
  {
   "cell_type": "code",
   "execution_count": 4,
   "id": "d3a1c6b4",
   "metadata": {},
   "outputs": [],
   "source": [
    "# Dropping the ID column\n",
    "housing_data.drop(columns=['Id'], inplace=True)"
   ]
  },
  {
   "cell_type": "code",
   "execution_count": 5,
   "id": "102e67ad",
   "metadata": {},
   "outputs": [
    {
     "name": "stdout",
     "output_type": "stream",
     "text": [
      "Index(['Alley', 'MasVnrType', 'FireplaceQu', 'PoolQC', 'Fence', 'MiscFeature'], dtype='object')\n"
     ]
    }
   ],
   "source": [
    "# Finding columns with more than 40% missing values\n",
    "# Calculating the percentage of missing values for each columns\n",
    "missing_values = housing_data.isnull().mean()\n",
    "\n",
    "# Filtering the columns with more than 40% missing values\n",
    "columns_to_drop = missing_values[missing_values > 0.4].index\n",
    "\n",
    "# Printing columns to drop\n",
    "print(columns_to_drop)"
   ]
  },
  {
   "cell_type": "code",
   "execution_count": 6,
   "id": "90df4e24",
   "metadata": {},
   "outputs": [],
   "source": [
    "# Dropping columns with more than 40% missing values\n",
    "housing_data.drop(columns=columns_to_drop, axis=1, inplace=True)"
   ]
  },
  {
   "cell_type": "raw",
   "id": "5d211710",
   "metadata": {},
   "source": [
    "3. For numerical columns, fill in any missing data with the median value."
   ]
  },
  {
   "cell_type": "code",
   "execution_count": 7,
   "id": "725d19f5",
   "metadata": {},
   "outputs": [
    {
     "name": "stdout",
     "output_type": "stream",
     "text": [
      "Index(['MSSubClass', 'LotFrontage', 'LotArea', 'OverallQual', 'OverallCond',\n",
      "       'YearBuilt', 'YearRemodAdd', 'MasVnrArea', 'BsmtFinSF1', 'BsmtFinSF2',\n",
      "       'BsmtUnfSF', 'TotalBsmtSF', '1stFlrSF', '2ndFlrSF', 'LowQualFinSF',\n",
      "       'GrLivArea', 'BsmtFullBath', 'BsmtHalfBath', 'FullBath', 'HalfBath',\n",
      "       'BedroomAbvGr', 'KitchenAbvGr', 'TotRmsAbvGrd', 'Fireplaces',\n",
      "       'GarageYrBlt', 'GarageCars', 'GarageArea', 'WoodDeckSF', 'OpenPorchSF',\n",
      "       'EnclosedPorch', '3SsnPorch', 'ScreenPorch', 'PoolArea', 'MiscVal',\n",
      "       'MoSold', 'YrSold', 'SalePrice'],\n",
      "      dtype='object')\n",
      "37\n"
     ]
    }
   ],
   "source": [
    "# Let's identify the numeral columns in the dataset\n",
    "numerical_columns = housing_data.select_dtypes(include=[np.number]).columns\n",
    "\n",
    "# Printing the list of numerical columns\n",
    "print(numerical_columns)\n",
    "print(len(numerical_columns))"
   ]
  },
  {
   "cell_type": "code",
   "execution_count": 8,
   "id": "d970782c",
   "metadata": {},
   "outputs": [],
   "source": [
    "# Let's loop through the numerical columns and replace missing data with the median value\n",
    "for column in numerical_columns:\n",
    "    housing_data[column].fillna(housing_data[column].median(), inplace=True)"
   ]
  },
  {
   "cell_type": "raw",
   "id": "24d52ba1",
   "metadata": {},
   "source": [
    "4. For categorical columns, fill in any missing data with the most common value (mode)."
   ]
  },
  {
   "cell_type": "code",
   "execution_count": 9,
   "id": "6b05d032",
   "metadata": {},
   "outputs": [
    {
     "name": "stdout",
     "output_type": "stream",
     "text": [
      "Index(['MSZoning', 'Street', 'LotShape', 'LandContour', 'Utilities',\n",
      "       'LotConfig', 'LandSlope', 'Neighborhood', 'Condition1', 'Condition2',\n",
      "       'BldgType', 'HouseStyle', 'RoofStyle', 'RoofMatl', 'Exterior1st',\n",
      "       'Exterior2nd', 'ExterQual', 'ExterCond', 'Foundation', 'BsmtQual',\n",
      "       'BsmtCond', 'BsmtExposure', 'BsmtFinType1', 'BsmtFinType2', 'Heating',\n",
      "       'HeatingQC', 'CentralAir', 'Electrical', 'KitchenQual', 'Functional',\n",
      "       'GarageType', 'GarageFinish', 'GarageQual', 'GarageCond', 'PavedDrive',\n",
      "       'SaleType', 'SaleCondition'],\n",
      "      dtype='object')\n",
      "37\n"
     ]
    }
   ],
   "source": [
    "# Let's find the categorical columns\n",
    "categorical_columns = housing_data.select_dtypes(include=['object']).columns\n",
    "\n",
    "# Printing the list of categorical columns\n",
    "print(categorical_columns)\n",
    "print(len(categorical_columns))"
   ]
  },
  {
   "cell_type": "code",
   "execution_count": 10,
   "id": "272849f2",
   "metadata": {},
   "outputs": [],
   "source": [
    "# Filling missing values in categorical columns with the most common value (mode)\n",
    "# looping through the categorical columns\n",
    "for column in categorical_columns:\n",
    "    # Getting the mode value for the column\n",
    "    mode_value = housing_data[column].mode()[0]\n",
    "    # Filling missing values with mode\n",
    "    housing_data[column].fillna(mode_value, inplace=True)"
   ]
  },
  {
   "cell_type": "code",
   "execution_count": 11,
   "id": "14d5f4a4",
   "metadata": {},
   "outputs": [
    {
     "data": {
      "text/html": [
       "<div>\n",
       "<style scoped>\n",
       "    .dataframe tbody tr th:only-of-type {\n",
       "        vertical-align: middle;\n",
       "    }\n",
       "\n",
       "    .dataframe tbody tr th {\n",
       "        vertical-align: top;\n",
       "    }\n",
       "\n",
       "    .dataframe thead th {\n",
       "        text-align: right;\n",
       "    }\n",
       "</style>\n",
       "<table border=\"1\" class=\"dataframe\">\n",
       "  <thead>\n",
       "    <tr style=\"text-align: right;\">\n",
       "      <th></th>\n",
       "      <th>MSSubClass</th>\n",
       "      <th>MSZoning</th>\n",
       "      <th>LotFrontage</th>\n",
       "      <th>LotArea</th>\n",
       "      <th>Street</th>\n",
       "      <th>LotShape</th>\n",
       "      <th>LandContour</th>\n",
       "      <th>Utilities</th>\n",
       "      <th>LotConfig</th>\n",
       "      <th>LandSlope</th>\n",
       "      <th>...</th>\n",
       "      <th>EnclosedPorch</th>\n",
       "      <th>3SsnPorch</th>\n",
       "      <th>ScreenPorch</th>\n",
       "      <th>PoolArea</th>\n",
       "      <th>MiscVal</th>\n",
       "      <th>MoSold</th>\n",
       "      <th>YrSold</th>\n",
       "      <th>SaleType</th>\n",
       "      <th>SaleCondition</th>\n",
       "      <th>SalePrice</th>\n",
       "    </tr>\n",
       "  </thead>\n",
       "  <tbody>\n",
       "    <tr>\n",
       "      <th>0</th>\n",
       "      <td>60</td>\n",
       "      <td>RL</td>\n",
       "      <td>65.0</td>\n",
       "      <td>8450</td>\n",
       "      <td>Pave</td>\n",
       "      <td>Reg</td>\n",
       "      <td>Lvl</td>\n",
       "      <td>AllPub</td>\n",
       "      <td>Inside</td>\n",
       "      <td>Gtl</td>\n",
       "      <td>...</td>\n",
       "      <td>0</td>\n",
       "      <td>0</td>\n",
       "      <td>0</td>\n",
       "      <td>0</td>\n",
       "      <td>0</td>\n",
       "      <td>2</td>\n",
       "      <td>2008</td>\n",
       "      <td>WD</td>\n",
       "      <td>Normal</td>\n",
       "      <td>208500</td>\n",
       "    </tr>\n",
       "    <tr>\n",
       "      <th>1</th>\n",
       "      <td>20</td>\n",
       "      <td>RL</td>\n",
       "      <td>80.0</td>\n",
       "      <td>9600</td>\n",
       "      <td>Pave</td>\n",
       "      <td>Reg</td>\n",
       "      <td>Lvl</td>\n",
       "      <td>AllPub</td>\n",
       "      <td>FR2</td>\n",
       "      <td>Gtl</td>\n",
       "      <td>...</td>\n",
       "      <td>0</td>\n",
       "      <td>0</td>\n",
       "      <td>0</td>\n",
       "      <td>0</td>\n",
       "      <td>0</td>\n",
       "      <td>5</td>\n",
       "      <td>2007</td>\n",
       "      <td>WD</td>\n",
       "      <td>Normal</td>\n",
       "      <td>181500</td>\n",
       "    </tr>\n",
       "    <tr>\n",
       "      <th>2</th>\n",
       "      <td>60</td>\n",
       "      <td>RL</td>\n",
       "      <td>68.0</td>\n",
       "      <td>11250</td>\n",
       "      <td>Pave</td>\n",
       "      <td>IR1</td>\n",
       "      <td>Lvl</td>\n",
       "      <td>AllPub</td>\n",
       "      <td>Inside</td>\n",
       "      <td>Gtl</td>\n",
       "      <td>...</td>\n",
       "      <td>0</td>\n",
       "      <td>0</td>\n",
       "      <td>0</td>\n",
       "      <td>0</td>\n",
       "      <td>0</td>\n",
       "      <td>9</td>\n",
       "      <td>2008</td>\n",
       "      <td>WD</td>\n",
       "      <td>Normal</td>\n",
       "      <td>223500</td>\n",
       "    </tr>\n",
       "    <tr>\n",
       "      <th>3</th>\n",
       "      <td>70</td>\n",
       "      <td>RL</td>\n",
       "      <td>60.0</td>\n",
       "      <td>9550</td>\n",
       "      <td>Pave</td>\n",
       "      <td>IR1</td>\n",
       "      <td>Lvl</td>\n",
       "      <td>AllPub</td>\n",
       "      <td>Corner</td>\n",
       "      <td>Gtl</td>\n",
       "      <td>...</td>\n",
       "      <td>272</td>\n",
       "      <td>0</td>\n",
       "      <td>0</td>\n",
       "      <td>0</td>\n",
       "      <td>0</td>\n",
       "      <td>2</td>\n",
       "      <td>2006</td>\n",
       "      <td>WD</td>\n",
       "      <td>Abnorml</td>\n",
       "      <td>140000</td>\n",
       "    </tr>\n",
       "    <tr>\n",
       "      <th>4</th>\n",
       "      <td>60</td>\n",
       "      <td>RL</td>\n",
       "      <td>84.0</td>\n",
       "      <td>14260</td>\n",
       "      <td>Pave</td>\n",
       "      <td>IR1</td>\n",
       "      <td>Lvl</td>\n",
       "      <td>AllPub</td>\n",
       "      <td>FR2</td>\n",
       "      <td>Gtl</td>\n",
       "      <td>...</td>\n",
       "      <td>0</td>\n",
       "      <td>0</td>\n",
       "      <td>0</td>\n",
       "      <td>0</td>\n",
       "      <td>0</td>\n",
       "      <td>12</td>\n",
       "      <td>2008</td>\n",
       "      <td>WD</td>\n",
       "      <td>Normal</td>\n",
       "      <td>250000</td>\n",
       "    </tr>\n",
       "  </tbody>\n",
       "</table>\n",
       "<p>5 rows × 74 columns</p>\n",
       "</div>"
      ],
      "text/plain": [
       "   MSSubClass MSZoning  LotFrontage  LotArea Street LotShape LandContour  \\\n",
       "0          60       RL         65.0     8450   Pave      Reg         Lvl   \n",
       "1          20       RL         80.0     9600   Pave      Reg         Lvl   \n",
       "2          60       RL         68.0    11250   Pave      IR1         Lvl   \n",
       "3          70       RL         60.0     9550   Pave      IR1         Lvl   \n",
       "4          60       RL         84.0    14260   Pave      IR1         Lvl   \n",
       "\n",
       "  Utilities LotConfig LandSlope  ... EnclosedPorch 3SsnPorch ScreenPorch  \\\n",
       "0    AllPub    Inside       Gtl  ...             0         0           0   \n",
       "1    AllPub       FR2       Gtl  ...             0         0           0   \n",
       "2    AllPub    Inside       Gtl  ...             0         0           0   \n",
       "3    AllPub    Corner       Gtl  ...           272         0           0   \n",
       "4    AllPub       FR2       Gtl  ...             0         0           0   \n",
       "\n",
       "  PoolArea MiscVal  MoSold  YrSold  SaleType  SaleCondition SalePrice  \n",
       "0        0       0       2    2008        WD         Normal    208500  \n",
       "1        0       0       5    2007        WD         Normal    181500  \n",
       "2        0       0       9    2008        WD         Normal    223500  \n",
       "3        0       0       2    2006        WD        Abnorml    140000  \n",
       "4        0       0      12    2008        WD         Normal    250000  \n",
       "\n",
       "[5 rows x 74 columns]"
      ]
     },
     "execution_count": 11,
     "metadata": {},
     "output_type": "execute_result"
    }
   ],
   "source": [
    "# Let's view the first 5 rows\n",
    "housing_data.head(5)"
   ]
  },
  {
   "cell_type": "raw",
   "id": "895e1a36",
   "metadata": {},
   "source": [
    "5. Convert the categorical columns to dummy variables."
   ]
  },
  {
   "cell_type": "code",
   "execution_count": 12,
   "id": "b3178959",
   "metadata": {},
   "outputs": [
    {
     "data": {
      "text/html": [
       "<div>\n",
       "<style scoped>\n",
       "    .dataframe tbody tr th:only-of-type {\n",
       "        vertical-align: middle;\n",
       "    }\n",
       "\n",
       "    .dataframe tbody tr th {\n",
       "        vertical-align: top;\n",
       "    }\n",
       "\n",
       "    .dataframe thead th {\n",
       "        text-align: right;\n",
       "    }\n",
       "</style>\n",
       "<table border=\"1\" class=\"dataframe\">\n",
       "  <thead>\n",
       "    <tr style=\"text-align: right;\">\n",
       "      <th></th>\n",
       "      <th>MSSubClass</th>\n",
       "      <th>LotFrontage</th>\n",
       "      <th>LotArea</th>\n",
       "      <th>OverallQual</th>\n",
       "      <th>OverallCond</th>\n",
       "      <th>YearBuilt</th>\n",
       "      <th>YearRemodAdd</th>\n",
       "      <th>MasVnrArea</th>\n",
       "      <th>BsmtFinSF1</th>\n",
       "      <th>BsmtFinSF2</th>\n",
       "      <th>...</th>\n",
       "      <th>SaleType_ConLI</th>\n",
       "      <th>SaleType_ConLw</th>\n",
       "      <th>SaleType_New</th>\n",
       "      <th>SaleType_Oth</th>\n",
       "      <th>SaleType_WD</th>\n",
       "      <th>SaleCondition_AdjLand</th>\n",
       "      <th>SaleCondition_Alloca</th>\n",
       "      <th>SaleCondition_Family</th>\n",
       "      <th>SaleCondition_Normal</th>\n",
       "      <th>SaleCondition_Partial</th>\n",
       "    </tr>\n",
       "  </thead>\n",
       "  <tbody>\n",
       "    <tr>\n",
       "      <th>0</th>\n",
       "      <td>60</td>\n",
       "      <td>65.0</td>\n",
       "      <td>8450</td>\n",
       "      <td>7</td>\n",
       "      <td>5</td>\n",
       "      <td>2003</td>\n",
       "      <td>2003</td>\n",
       "      <td>196.0</td>\n",
       "      <td>706</td>\n",
       "      <td>0</td>\n",
       "      <td>...</td>\n",
       "      <td>False</td>\n",
       "      <td>False</td>\n",
       "      <td>False</td>\n",
       "      <td>False</td>\n",
       "      <td>True</td>\n",
       "      <td>False</td>\n",
       "      <td>False</td>\n",
       "      <td>False</td>\n",
       "      <td>True</td>\n",
       "      <td>False</td>\n",
       "    </tr>\n",
       "    <tr>\n",
       "      <th>1</th>\n",
       "      <td>20</td>\n",
       "      <td>80.0</td>\n",
       "      <td>9600</td>\n",
       "      <td>6</td>\n",
       "      <td>8</td>\n",
       "      <td>1976</td>\n",
       "      <td>1976</td>\n",
       "      <td>0.0</td>\n",
       "      <td>978</td>\n",
       "      <td>0</td>\n",
       "      <td>...</td>\n",
       "      <td>False</td>\n",
       "      <td>False</td>\n",
       "      <td>False</td>\n",
       "      <td>False</td>\n",
       "      <td>True</td>\n",
       "      <td>False</td>\n",
       "      <td>False</td>\n",
       "      <td>False</td>\n",
       "      <td>True</td>\n",
       "      <td>False</td>\n",
       "    </tr>\n",
       "    <tr>\n",
       "      <th>2</th>\n",
       "      <td>60</td>\n",
       "      <td>68.0</td>\n",
       "      <td>11250</td>\n",
       "      <td>7</td>\n",
       "      <td>5</td>\n",
       "      <td>2001</td>\n",
       "      <td>2002</td>\n",
       "      <td>162.0</td>\n",
       "      <td>486</td>\n",
       "      <td>0</td>\n",
       "      <td>...</td>\n",
       "      <td>False</td>\n",
       "      <td>False</td>\n",
       "      <td>False</td>\n",
       "      <td>False</td>\n",
       "      <td>True</td>\n",
       "      <td>False</td>\n",
       "      <td>False</td>\n",
       "      <td>False</td>\n",
       "      <td>True</td>\n",
       "      <td>False</td>\n",
       "    </tr>\n",
       "    <tr>\n",
       "      <th>3</th>\n",
       "      <td>70</td>\n",
       "      <td>60.0</td>\n",
       "      <td>9550</td>\n",
       "      <td>7</td>\n",
       "      <td>5</td>\n",
       "      <td>1915</td>\n",
       "      <td>1970</td>\n",
       "      <td>0.0</td>\n",
       "      <td>216</td>\n",
       "      <td>0</td>\n",
       "      <td>...</td>\n",
       "      <td>False</td>\n",
       "      <td>False</td>\n",
       "      <td>False</td>\n",
       "      <td>False</td>\n",
       "      <td>True</td>\n",
       "      <td>False</td>\n",
       "      <td>False</td>\n",
       "      <td>False</td>\n",
       "      <td>False</td>\n",
       "      <td>False</td>\n",
       "    </tr>\n",
       "    <tr>\n",
       "      <th>4</th>\n",
       "      <td>60</td>\n",
       "      <td>84.0</td>\n",
       "      <td>14260</td>\n",
       "      <td>8</td>\n",
       "      <td>5</td>\n",
       "      <td>2000</td>\n",
       "      <td>2000</td>\n",
       "      <td>350.0</td>\n",
       "      <td>655</td>\n",
       "      <td>0</td>\n",
       "      <td>...</td>\n",
       "      <td>False</td>\n",
       "      <td>False</td>\n",
       "      <td>False</td>\n",
       "      <td>False</td>\n",
       "      <td>True</td>\n",
       "      <td>False</td>\n",
       "      <td>False</td>\n",
       "      <td>False</td>\n",
       "      <td>True</td>\n",
       "      <td>False</td>\n",
       "    </tr>\n",
       "  </tbody>\n",
       "</table>\n",
       "<p>5 rows × 230 columns</p>\n",
       "</div>"
      ],
      "text/plain": [
       "   MSSubClass  LotFrontage  LotArea  OverallQual  OverallCond  YearBuilt  \\\n",
       "0          60         65.0     8450            7            5       2003   \n",
       "1          20         80.0     9600            6            8       1976   \n",
       "2          60         68.0    11250            7            5       2001   \n",
       "3          70         60.0     9550            7            5       1915   \n",
       "4          60         84.0    14260            8            5       2000   \n",
       "\n",
       "   YearRemodAdd  MasVnrArea  BsmtFinSF1  BsmtFinSF2  ...  SaleType_ConLI  \\\n",
       "0          2003       196.0         706           0  ...           False   \n",
       "1          1976         0.0         978           0  ...           False   \n",
       "2          2002       162.0         486           0  ...           False   \n",
       "3          1970         0.0         216           0  ...           False   \n",
       "4          2000       350.0         655           0  ...           False   \n",
       "\n",
       "   SaleType_ConLw  SaleType_New  SaleType_Oth  SaleType_WD  \\\n",
       "0           False         False         False         True   \n",
       "1           False         False         False         True   \n",
       "2           False         False         False         True   \n",
       "3           False         False         False         True   \n",
       "4           False         False         False         True   \n",
       "\n",
       "   SaleCondition_AdjLand  SaleCondition_Alloca  SaleCondition_Family  \\\n",
       "0                  False                 False                 False   \n",
       "1                  False                 False                 False   \n",
       "2                  False                 False                 False   \n",
       "3                  False                 False                 False   \n",
       "4                  False                 False                 False   \n",
       "\n",
       "   SaleCondition_Normal  SaleCondition_Partial  \n",
       "0                  True                  False  \n",
       "1                  True                  False  \n",
       "2                  True                  False  \n",
       "3                 False                  False  \n",
       "4                  True                  False  \n",
       "\n",
       "[5 rows x 230 columns]"
      ]
     },
     "execution_count": 12,
     "metadata": {},
     "output_type": "execute_result"
    }
   ],
   "source": [
    "# Converting categorical columns to dummy variables\n",
    "housing_data_converted = pd.get_dummies(housing_data, columns=categorical_columns, drop_first=True)\n",
    "\n",
    "# Display the first few rows of the encoded dataset\n",
    "housing_data_converted.head(5)"
   ]
  },
  {
   "cell_type": "raw",
   "id": "10de2edd",
   "metadata": {},
   "source": [
    "6. Split the data into a training and test set, where the SalePrice column is the target."
   ]
  },
  {
   "cell_type": "code",
   "execution_count": 13,
   "id": "f66e8917",
   "metadata": {},
   "outputs": [],
   "source": [
    "# Splitting the data into features and target\n",
    "features = housing_data_converted.drop('SalePrice', axis=1)\n",
    "target = housing_data_converted['SalePrice']\n",
    "\n",
    "# Splitting the data into training and test sets\n",
    "features_train, features_test, target_train, target_test = train_test_split(features, target, test_size=0.2, random_state=0)"
   ]
  },
  {
   "cell_type": "raw",
   "id": "5d7ce5f3",
   "metadata": {},
   "source": [
    "7. Run a linear regression and report the R2-value and RMSE on the test set."
   ]
  },
  {
   "cell_type": "code",
   "execution_count": 14,
   "id": "647115ca",
   "metadata": {},
   "outputs": [
    {
     "name": "stdout",
     "output_type": "stream",
     "text": [
      "The R2-value is  0.5692602839305727\n",
      "The RMSE is  54540.112327652576\n"
     ]
    }
   ],
   "source": [
    "# Creating a linear regression model\n",
    "model = LinearRegression()\n",
    "\n",
    "# Train the model on the training data\n",
    "model.fit(features_train, target_train)\n",
    "\n",
    "# Predictions on the test set\n",
    "predictions = model.predict(features_test)\n",
    "\n",
    "# R-squared\n",
    "r2 = r2_score(target_test, predictions)\n",
    "\n",
    "# RMSE\n",
    "rmse = np.sqrt(mean_squared_error(target_test, predictions))\n",
    "\n",
    "# Printing the result\n",
    "print('The R2-value is ', r2)\n",
    "print('The RMSE is ',rmse)"
   ]
  },
  {
   "cell_type": "raw",
   "id": "278c908f",
   "metadata": {},
   "source": [
    "8. Fit and transform the training features with a PCA so that 90% of the variance is retained (see section 9.1 in the Machine Learning with Python Cookbook)."
   ]
  },
  {
   "cell_type": "code",
   "execution_count": 15,
   "id": "c5eed1fe",
   "metadata": {},
   "outputs": [
    {
     "name": "stdout",
     "output_type": "stream",
     "text": [
      "Original number of features:  229\n",
      "Reduced number of features:  1\n"
     ]
    }
   ],
   "source": [
    "# Create PCA that will retain 90% of variance\n",
    "pca = PCA(n_components=0.90, whiten = True)\n",
    "\n",
    "# Conducting PCA\n",
    "features_train_pca = pca.fit_transform(features_train)\n",
    "\n",
    "# Printing the results\n",
    "print('Original number of features: ', features_train.shape[1])\n",
    "print('Reduced number of features: ', features_train_pca.shape[1])"
   ]
  },
  {
   "cell_type": "raw",
   "id": "dcdbbb96",
   "metadata": {},
   "source": [
    "9. How many features are in the PCA-transformed matrix?"
   ]
  },
  {
   "cell_type": "code",
   "execution_count": 16,
   "id": "bc0f0763",
   "metadata": {},
   "outputs": [
    {
     "name": "stdout",
     "output_type": "stream",
     "text": [
      "Number of features in PCA-transformed matrix: 1\n"
     ]
    }
   ],
   "source": [
    "# Number of features in the PCA-transformed matrix\n",
    "print(\"Number of features in PCA-transformed matrix:\", features_train_pca.shape[1])"
   ]
  },
  {
   "cell_type": "raw",
   "id": "78448e8f",
   "metadata": {},
   "source": [
    "10. Transform but DO NOT fit the test features with the same PCA."
   ]
  },
  {
   "cell_type": "code",
   "execution_count": 17,
   "id": "6e8634da",
   "metadata": {},
   "outputs": [
    {
     "data": {
      "text/plain": [
       "(292, 1)"
      ]
     },
     "execution_count": 17,
     "metadata": {},
     "output_type": "execute_result"
    }
   ],
   "source": [
    "# Transforming  the test features with the same PCA.\n",
    "features_test_pca = pca.transform(features_test)\n",
    "\n",
    "# Printing the shape of the test features\n",
    "features_test_pca.shape"
   ]
  },
  {
   "cell_type": "raw",
   "id": "d2921f31",
   "metadata": {},
   "source": [
    "11. Repeat step 7 with your PCA transformed data: Run a linear regression and report the R2-value and RMSE"
   ]
  },
  {
   "cell_type": "code",
   "execution_count": 18,
   "id": "7ac3222d",
   "metadata": {},
   "outputs": [
    {
     "name": "stdout",
     "output_type": "stream",
     "text": [
      "The R2-value is  0.08619784709862965\n",
      "The RMSE is  79439.16266376621\n"
     ]
    }
   ],
   "source": [
    "# Creating a linear regression model\n",
    "model_pca = LinearRegression()\n",
    "\n",
    "# Train the model on the training data\n",
    "model_pca.fit(features_train_pca, target_train)\n",
    "\n",
    "# Predictions on the test set\n",
    "predictions_pca = model_pca.predict(features_test_pca)\n",
    "\n",
    "# R-squared\n",
    "r2_pca = r2_score(target_test, predictions_pca)\n",
    "\n",
    "# RMSE\n",
    "rmse_pca = np.sqrt(mean_squared_error(target_test, predictions_pca))\n",
    "\n",
    "# Printing the result\n",
    "print('The R2-value is ', r2_pca)\n",
    "print('The RMSE is ',rmse_pca)"
   ]
  },
  {
   "cell_type": "raw",
   "id": "3782ec3b",
   "metadata": {},
   "source": [
    "12. Take your original training features (from step 6) and apply a min-max scaler to them."
   ]
  },
  {
   "cell_type": "code",
   "execution_count": 19,
   "id": "748ef768",
   "metadata": {},
   "outputs": [
    {
     "name": "stdout",
     "output_type": "stream",
     "text": [
      "Shape of Min-Max scaled training features: (1168, 229)\n"
     ]
    }
   ],
   "source": [
    "# Creating a scaler object\n",
    "scaler = MinMaxScaler()\n",
    "\n",
    "# Fitting the scaler on the training features\n",
    "scaler.fit(features_train)\n",
    "\n",
    "# Transforming the training features using the fitted scaler\n",
    "features_train_scaled = scaler.transform(features_train)\n",
    "\n",
    "# Shape of the Min-Max scaled training features\n",
    "print(\"Shape of Min-Max scaled training features:\", features_train_scaled.shape)"
   ]
  },
  {
   "cell_type": "raw",
   "id": "0ca3266b",
   "metadata": {},
   "source": [
    "13. Find the min-max scaled features in your training set that have a variance above 0.1 (see Section 10.1 in the Machine Learning with Python Cookbook)."
   ]
  },
  {
   "cell_type": "code",
   "execution_count": 20,
   "id": "c1b521d5",
   "metadata": {},
   "outputs": [
    {
     "name": "stdout",
     "output_type": "stream",
     "text": [
      "Min-Max scaled features with variance above 0.1:\n",
      "Feature: YearRemodAdd, Variance: 0.1187\n",
      "Feature: YrSold, Variance: 0.1115\n",
      "Feature: MSZoning_RL, Variance: 0.1668\n",
      "Feature: MSZoning_RM, Variance: 0.1268\n",
      "Feature: LotShape_Reg, Variance: 0.2333\n",
      "Feature: LotConfig_Inside, Variance: 0.1981\n",
      "Feature: Neighborhood_NAmes, Variance: 0.1286\n",
      "Feature: Condition1_Norm, Variance: 0.1126\n",
      "Feature: HouseStyle_1Story, Variance: 0.2500\n",
      "Feature: HouseStyle_2Story, Variance: 0.2139\n",
      "Feature: RoofStyle_Gable, Variance: 0.1745\n",
      "Feature: RoofStyle_Hip, Variance: 0.1612\n",
      "Feature: Exterior1st_HdBoard, Variance: 0.1250\n",
      "Feature: Exterior1st_MetalSd, Variance: 0.1207\n",
      "Feature: Exterior1st_VinylSd, Variance: 0.2283\n",
      "Feature: Exterior1st_Wd Sdng, Variance: 0.1274\n",
      "Feature: Exterior2nd_HdBoard, Variance: 0.1182\n",
      "Feature: Exterior2nd_MetalSd, Variance: 0.1182\n",
      "Feature: Exterior2nd_VinylSd, Variance: 0.2255\n",
      "Feature: Exterior2nd_Wd Sdng, Variance: 0.1238\n",
      "Feature: ExterQual_Gd, Variance: 0.2218\n",
      "Feature: ExterQual_TA, Variance: 0.2346\n",
      "Feature: ExterCond_TA, Variance: 0.1074\n",
      "Feature: Foundation_CBlock, Variance: 0.2454\n",
      "Feature: Foundation_PConc, Variance: 0.2462\n",
      "Feature: BsmtQual_Gd, Variance: 0.2435\n",
      "Feature: BsmtQual_TA, Variance: 0.2494\n",
      "Feature: BsmtExposure_No, Variance: 0.2171\n",
      "Feature: BsmtFinType1_GLQ, Variance: 0.2027\n",
      "Feature: BsmtFinType1_Unf, Variance: 0.2198\n",
      "Feature: BsmtFinType2_Unf, Variance: 0.1029\n",
      "Feature: HeatingQC_Gd, Variance: 0.1396\n",
      "Feature: HeatingQC_TA, Variance: 0.2071\n",
      "Feature: KitchenQual_Gd, Variance: 0.2391\n",
      "Feature: KitchenQual_TA, Variance: 0.2499\n",
      "Feature: GarageType_Attchd, Variance: 0.2288\n",
      "Feature: GarageType_Detchd, Variance: 0.1970\n",
      "Feature: GarageFinish_RFn, Variance: 0.2053\n",
      "Feature: GarageFinish_Unf, Variance: 0.2489\n",
      "Feature: SaleType_WD, Variance: 0.1113\n",
      "Feature: SaleCondition_Normal, Variance: 0.1413\n"
     ]
    }
   ],
   "source": [
    "# Calculating the variance of each scaled feature\n",
    "feature_variances_minmax = np.var(features_train_scaled, axis=0)\n",
    "\n",
    "# Indices of features with variance above 0.1\n",
    "selected_indices = np.where(feature_variances_minmax > 0.1)[0]\n",
    "\n",
    "# Names of selected features\n",
    "selected_features = features_train.columns[selected_indices]\n",
    "\n",
    "# Printing the features with variance higer than 0.1\n",
    "print(\"Min-Max scaled features with variance above 0.1:\")\n",
    "for feature, variance in zip(selected_features, feature_variances_minmax[selected_indices]):\n",
    "    print(f\"Feature: {feature}, Variance: {variance:.4f}\")"
   ]
  },
  {
   "cell_type": "raw",
   "id": "eebd789b",
   "metadata": {},
   "source": [
    "14. Transform but DO NOT fit the test features with the same steps applied in steps 11 and 12."
   ]
  },
  {
   "cell_type": "code",
   "execution_count": 21,
   "id": "20b5b029",
   "metadata": {},
   "outputs": [
    {
     "data": {
      "text/plain": [
       "(292, 229)"
      ]
     },
     "execution_count": 21,
     "metadata": {},
     "output_type": "execute_result"
    }
   ],
   "source": [
    "# Creating a scaler object\n",
    "scaler = MinMaxScaler()\n",
    "\n",
    "# Fitting the scaler on the training features\n",
    "scaler.fit(features_train)\n",
    "\n",
    "# Transforming the test features using the fitted scaler\n",
    "features_test_scaled = scaler.transform(features_test)\n",
    "\n",
    "# Test features\n",
    "features_test_scaled = scaler.transform(features_test)\n",
    "\n",
    "# Printing the shape of the test features\n",
    "features_test_scaled.shape"
   ]
  },
  {
   "cell_type": "code",
   "execution_count": 22,
   "id": "b4cdef8f",
   "metadata": {},
   "outputs": [
    {
     "name": "stdout",
     "output_type": "stream",
     "text": [
      "Training set shape with high variance features: (934, 41) (934,)\n",
      "Test set shape with high variance features: (234, 41) (234,)\n"
     ]
    }
   ],
   "source": [
    "# Variance higher than 0.1 features\n",
    "features_train_scaled = features_train[selected_features]\n",
    "\n",
    "# Split the data into training and test sets\n",
    "features_train_scaled, features_test_scaled, target_train_scaled, target_test_scaled = train_test_split(\n",
    "    features_train_scaled, target_train, test_size=0.2, random_state=0)\n",
    "\n",
    "# Check the shapes of the training and test sets\n",
    "print(\"Training set shape with high variance features:\", features_train_scaled.shape,target_train_scaled.shape)\n",
    "print(\"Test set shape with high variance features:\",features_test_scaled.shape, target_test_scaled.shape)"
   ]
  },
  {
   "cell_type": "raw",
   "id": "7cece401",
   "metadata": {},
   "source": [
    "15. Repeat step 7 with the high variance data."
   ]
  },
  {
   "cell_type": "code",
   "execution_count": 23,
   "id": "cc9cd672",
   "metadata": {},
   "outputs": [
    {
     "name": "stdout",
     "output_type": "stream",
     "text": [
      "The R2-value is  0.6567488419603955\n",
      "The RMSE is  43406.892645812826\n"
     ]
    }
   ],
   "source": [
    "# Creating a linear regression model\n",
    "model_scaled = LinearRegression()\n",
    "\n",
    "# Train the model on the training data\n",
    "model_scaled.fit(features_train_scaled, target_train_scaled)\n",
    "\n",
    "# Predictions on the test set\n",
    "predictions_scaled = model_scaled.predict(features_test_scaled)\n",
    "\n",
    "# R-squared\n",
    "r2_scaled = r2_score(target_test_scaled, predictions_scaled)\n",
    "\n",
    "# RMSE\n",
    "rmse_scaled = np.sqrt(mean_squared_error(target_test_scaled, predictions_scaled))\n",
    "\n",
    "# Printing the result\n",
    "print('The R2-value is ', r2_scaled)\n",
    "print('The RMSE is ',rmse_scaled)"
   ]
  },
  {
   "cell_type": "raw",
   "id": "27b95a9c",
   "metadata": {},
   "source": [
    "16- Summarize your findings"
   ]
  },
  {
   "cell_type": "raw",
   "id": "8ea73b3d",
   "metadata": {},
   "source": [
    "Test data:\n",
    "R2 score: 0.562697115429186\n",
    "Root Mean Squared Error (RMSE): 54954.054533510185\n",
    "----------------\n",
    "\n",
    "PCA:\n",
    "R2 score: 0.08619784709862965\n",
    "Root Mean Squared Error (RMSE): 79439.16266376621\n",
    "---------------------\n",
    "\n",
    "Variance above 0.1\n",
    "R2 score: 0.6567488419603955\n",
    "Root Mean Squared Error (RMSE): 43406.892645812826\n",
    "----------------------\n",
    "\n",
    "The model with a high variance (above 0.1) seems to be the best performing model. It has a higher R2 score which means that the variation in the data is captured by the model. It has a lower RMSE,This means that the model's predictions are closer to the actual values (better accuracy)."
   ]
  },
  {
   "cell_type": "raw",
   "id": "9be05f4c",
   "metadata": {},
   "source": [
    "***************************************************************************************************"
   ]
  },
  {
   "cell_type": "raw",
   "id": "01bc148d",
   "metadata": {},
   "source": [
    "Part 2: Categorical Feature Selection"
   ]
  },
  {
   "cell_type": "raw",
   "id": "a668fc37",
   "metadata": {},
   "source": [
    "1. Import the data as a data frame and ensure it is loaded correctly."
   ]
  },
  {
   "cell_type": "code",
   "execution_count": 24,
   "id": "576043a3",
   "metadata": {},
   "outputs": [
    {
     "data": {
      "text/plain": [
       "Index(['class', 'cap-shape', 'cap-surface', 'cap-color', 'bruises', 'odor',\n",
       "       'gill-attachment', 'gill-spacing', 'gill-size', 'gill-color',\n",
       "       'stalk-shape', 'stalk-root', 'stalk-surface-above-ring',\n",
       "       'stalk-surface-below-ring', 'stalk-color-above-ring',\n",
       "       'stalk-color-below-ring', 'veil-type', 'veil-color', 'ring-number',\n",
       "       'ring-type', 'spore-print-color', 'population', 'habitat'],\n",
       "      dtype='object')"
      ]
     },
     "execution_count": 24,
     "metadata": {},
     "output_type": "execute_result"
    }
   ],
   "source": [
    "url2 = 'https://raw.githubusercontent.com/kueyram/dsc550/main/Week%207/mushrooms.csv'\n",
    "mushrooms_df = pd.read_csv(url2)\n",
    "\n",
    "# Columns\n",
    "mushrooms_df.columns"
   ]
  },
  {
   "cell_type": "code",
   "execution_count": 25,
   "id": "48ab2579",
   "metadata": {},
   "outputs": [
    {
     "data": {
      "text/plain": [
       "(8124, 23)"
      ]
     },
     "execution_count": 25,
     "metadata": {},
     "output_type": "execute_result"
    }
   ],
   "source": [
    "# First 5 rows\n",
    "mushrooms_df.shape"
   ]
  },
  {
   "cell_type": "code",
   "execution_count": 26,
   "id": "866706d7",
   "metadata": {},
   "outputs": [
    {
     "data": {
      "text/html": [
       "<div>\n",
       "<style scoped>\n",
       "    .dataframe tbody tr th:only-of-type {\n",
       "        vertical-align: middle;\n",
       "    }\n",
       "\n",
       "    .dataframe tbody tr th {\n",
       "        vertical-align: top;\n",
       "    }\n",
       "\n",
       "    .dataframe thead th {\n",
       "        text-align: right;\n",
       "    }\n",
       "</style>\n",
       "<table border=\"1\" class=\"dataframe\">\n",
       "  <thead>\n",
       "    <tr style=\"text-align: right;\">\n",
       "      <th></th>\n",
       "      <th>class</th>\n",
       "      <th>cap-shape</th>\n",
       "      <th>cap-surface</th>\n",
       "      <th>cap-color</th>\n",
       "      <th>bruises</th>\n",
       "      <th>odor</th>\n",
       "      <th>gill-attachment</th>\n",
       "      <th>gill-spacing</th>\n",
       "      <th>gill-size</th>\n",
       "      <th>gill-color</th>\n",
       "      <th>...</th>\n",
       "      <th>stalk-surface-below-ring</th>\n",
       "      <th>stalk-color-above-ring</th>\n",
       "      <th>stalk-color-below-ring</th>\n",
       "      <th>veil-type</th>\n",
       "      <th>veil-color</th>\n",
       "      <th>ring-number</th>\n",
       "      <th>ring-type</th>\n",
       "      <th>spore-print-color</th>\n",
       "      <th>population</th>\n",
       "      <th>habitat</th>\n",
       "    </tr>\n",
       "  </thead>\n",
       "  <tbody>\n",
       "    <tr>\n",
       "      <th>0</th>\n",
       "      <td>p</td>\n",
       "      <td>x</td>\n",
       "      <td>s</td>\n",
       "      <td>n</td>\n",
       "      <td>t</td>\n",
       "      <td>p</td>\n",
       "      <td>f</td>\n",
       "      <td>c</td>\n",
       "      <td>n</td>\n",
       "      <td>k</td>\n",
       "      <td>...</td>\n",
       "      <td>s</td>\n",
       "      <td>w</td>\n",
       "      <td>w</td>\n",
       "      <td>p</td>\n",
       "      <td>w</td>\n",
       "      <td>o</td>\n",
       "      <td>p</td>\n",
       "      <td>k</td>\n",
       "      <td>s</td>\n",
       "      <td>u</td>\n",
       "    </tr>\n",
       "    <tr>\n",
       "      <th>1</th>\n",
       "      <td>e</td>\n",
       "      <td>x</td>\n",
       "      <td>s</td>\n",
       "      <td>y</td>\n",
       "      <td>t</td>\n",
       "      <td>a</td>\n",
       "      <td>f</td>\n",
       "      <td>c</td>\n",
       "      <td>b</td>\n",
       "      <td>k</td>\n",
       "      <td>...</td>\n",
       "      <td>s</td>\n",
       "      <td>w</td>\n",
       "      <td>w</td>\n",
       "      <td>p</td>\n",
       "      <td>w</td>\n",
       "      <td>o</td>\n",
       "      <td>p</td>\n",
       "      <td>n</td>\n",
       "      <td>n</td>\n",
       "      <td>g</td>\n",
       "    </tr>\n",
       "    <tr>\n",
       "      <th>2</th>\n",
       "      <td>e</td>\n",
       "      <td>b</td>\n",
       "      <td>s</td>\n",
       "      <td>w</td>\n",
       "      <td>t</td>\n",
       "      <td>l</td>\n",
       "      <td>f</td>\n",
       "      <td>c</td>\n",
       "      <td>b</td>\n",
       "      <td>n</td>\n",
       "      <td>...</td>\n",
       "      <td>s</td>\n",
       "      <td>w</td>\n",
       "      <td>w</td>\n",
       "      <td>p</td>\n",
       "      <td>w</td>\n",
       "      <td>o</td>\n",
       "      <td>p</td>\n",
       "      <td>n</td>\n",
       "      <td>n</td>\n",
       "      <td>m</td>\n",
       "    </tr>\n",
       "    <tr>\n",
       "      <th>3</th>\n",
       "      <td>p</td>\n",
       "      <td>x</td>\n",
       "      <td>y</td>\n",
       "      <td>w</td>\n",
       "      <td>t</td>\n",
       "      <td>p</td>\n",
       "      <td>f</td>\n",
       "      <td>c</td>\n",
       "      <td>n</td>\n",
       "      <td>n</td>\n",
       "      <td>...</td>\n",
       "      <td>s</td>\n",
       "      <td>w</td>\n",
       "      <td>w</td>\n",
       "      <td>p</td>\n",
       "      <td>w</td>\n",
       "      <td>o</td>\n",
       "      <td>p</td>\n",
       "      <td>k</td>\n",
       "      <td>s</td>\n",
       "      <td>u</td>\n",
       "    </tr>\n",
       "    <tr>\n",
       "      <th>4</th>\n",
       "      <td>e</td>\n",
       "      <td>x</td>\n",
       "      <td>s</td>\n",
       "      <td>g</td>\n",
       "      <td>f</td>\n",
       "      <td>n</td>\n",
       "      <td>f</td>\n",
       "      <td>w</td>\n",
       "      <td>b</td>\n",
       "      <td>k</td>\n",
       "      <td>...</td>\n",
       "      <td>s</td>\n",
       "      <td>w</td>\n",
       "      <td>w</td>\n",
       "      <td>p</td>\n",
       "      <td>w</td>\n",
       "      <td>o</td>\n",
       "      <td>e</td>\n",
       "      <td>n</td>\n",
       "      <td>a</td>\n",
       "      <td>g</td>\n",
       "    </tr>\n",
       "    <tr>\n",
       "      <th>...</th>\n",
       "      <td>...</td>\n",
       "      <td>...</td>\n",
       "      <td>...</td>\n",
       "      <td>...</td>\n",
       "      <td>...</td>\n",
       "      <td>...</td>\n",
       "      <td>...</td>\n",
       "      <td>...</td>\n",
       "      <td>...</td>\n",
       "      <td>...</td>\n",
       "      <td>...</td>\n",
       "      <td>...</td>\n",
       "      <td>...</td>\n",
       "      <td>...</td>\n",
       "      <td>...</td>\n",
       "      <td>...</td>\n",
       "      <td>...</td>\n",
       "      <td>...</td>\n",
       "      <td>...</td>\n",
       "      <td>...</td>\n",
       "      <td>...</td>\n",
       "    </tr>\n",
       "    <tr>\n",
       "      <th>8119</th>\n",
       "      <td>e</td>\n",
       "      <td>k</td>\n",
       "      <td>s</td>\n",
       "      <td>n</td>\n",
       "      <td>f</td>\n",
       "      <td>n</td>\n",
       "      <td>a</td>\n",
       "      <td>c</td>\n",
       "      <td>b</td>\n",
       "      <td>y</td>\n",
       "      <td>...</td>\n",
       "      <td>s</td>\n",
       "      <td>o</td>\n",
       "      <td>o</td>\n",
       "      <td>p</td>\n",
       "      <td>o</td>\n",
       "      <td>o</td>\n",
       "      <td>p</td>\n",
       "      <td>b</td>\n",
       "      <td>c</td>\n",
       "      <td>l</td>\n",
       "    </tr>\n",
       "    <tr>\n",
       "      <th>8120</th>\n",
       "      <td>e</td>\n",
       "      <td>x</td>\n",
       "      <td>s</td>\n",
       "      <td>n</td>\n",
       "      <td>f</td>\n",
       "      <td>n</td>\n",
       "      <td>a</td>\n",
       "      <td>c</td>\n",
       "      <td>b</td>\n",
       "      <td>y</td>\n",
       "      <td>...</td>\n",
       "      <td>s</td>\n",
       "      <td>o</td>\n",
       "      <td>o</td>\n",
       "      <td>p</td>\n",
       "      <td>n</td>\n",
       "      <td>o</td>\n",
       "      <td>p</td>\n",
       "      <td>b</td>\n",
       "      <td>v</td>\n",
       "      <td>l</td>\n",
       "    </tr>\n",
       "    <tr>\n",
       "      <th>8121</th>\n",
       "      <td>e</td>\n",
       "      <td>f</td>\n",
       "      <td>s</td>\n",
       "      <td>n</td>\n",
       "      <td>f</td>\n",
       "      <td>n</td>\n",
       "      <td>a</td>\n",
       "      <td>c</td>\n",
       "      <td>b</td>\n",
       "      <td>n</td>\n",
       "      <td>...</td>\n",
       "      <td>s</td>\n",
       "      <td>o</td>\n",
       "      <td>o</td>\n",
       "      <td>p</td>\n",
       "      <td>o</td>\n",
       "      <td>o</td>\n",
       "      <td>p</td>\n",
       "      <td>b</td>\n",
       "      <td>c</td>\n",
       "      <td>l</td>\n",
       "    </tr>\n",
       "    <tr>\n",
       "      <th>8122</th>\n",
       "      <td>p</td>\n",
       "      <td>k</td>\n",
       "      <td>y</td>\n",
       "      <td>n</td>\n",
       "      <td>f</td>\n",
       "      <td>y</td>\n",
       "      <td>f</td>\n",
       "      <td>c</td>\n",
       "      <td>n</td>\n",
       "      <td>b</td>\n",
       "      <td>...</td>\n",
       "      <td>k</td>\n",
       "      <td>w</td>\n",
       "      <td>w</td>\n",
       "      <td>p</td>\n",
       "      <td>w</td>\n",
       "      <td>o</td>\n",
       "      <td>e</td>\n",
       "      <td>w</td>\n",
       "      <td>v</td>\n",
       "      <td>l</td>\n",
       "    </tr>\n",
       "    <tr>\n",
       "      <th>8123</th>\n",
       "      <td>e</td>\n",
       "      <td>x</td>\n",
       "      <td>s</td>\n",
       "      <td>n</td>\n",
       "      <td>f</td>\n",
       "      <td>n</td>\n",
       "      <td>a</td>\n",
       "      <td>c</td>\n",
       "      <td>b</td>\n",
       "      <td>y</td>\n",
       "      <td>...</td>\n",
       "      <td>s</td>\n",
       "      <td>o</td>\n",
       "      <td>o</td>\n",
       "      <td>p</td>\n",
       "      <td>o</td>\n",
       "      <td>o</td>\n",
       "      <td>p</td>\n",
       "      <td>o</td>\n",
       "      <td>c</td>\n",
       "      <td>l</td>\n",
       "    </tr>\n",
       "  </tbody>\n",
       "</table>\n",
       "<p>8124 rows × 23 columns</p>\n",
       "</div>"
      ],
      "text/plain": [
       "     class cap-shape cap-surface cap-color bruises odor gill-attachment  \\\n",
       "0        p         x           s         n       t    p               f   \n",
       "1        e         x           s         y       t    a               f   \n",
       "2        e         b           s         w       t    l               f   \n",
       "3        p         x           y         w       t    p               f   \n",
       "4        e         x           s         g       f    n               f   \n",
       "...    ...       ...         ...       ...     ...  ...             ...   \n",
       "8119     e         k           s         n       f    n               a   \n",
       "8120     e         x           s         n       f    n               a   \n",
       "8121     e         f           s         n       f    n               a   \n",
       "8122     p         k           y         n       f    y               f   \n",
       "8123     e         x           s         n       f    n               a   \n",
       "\n",
       "     gill-spacing gill-size gill-color  ... stalk-surface-below-ring  \\\n",
       "0               c         n          k  ...                        s   \n",
       "1               c         b          k  ...                        s   \n",
       "2               c         b          n  ...                        s   \n",
       "3               c         n          n  ...                        s   \n",
       "4               w         b          k  ...                        s   \n",
       "...           ...       ...        ...  ...                      ...   \n",
       "8119            c         b          y  ...                        s   \n",
       "8120            c         b          y  ...                        s   \n",
       "8121            c         b          n  ...                        s   \n",
       "8122            c         n          b  ...                        k   \n",
       "8123            c         b          y  ...                        s   \n",
       "\n",
       "     stalk-color-above-ring stalk-color-below-ring veil-type veil-color  \\\n",
       "0                         w                      w         p          w   \n",
       "1                         w                      w         p          w   \n",
       "2                         w                      w         p          w   \n",
       "3                         w                      w         p          w   \n",
       "4                         w                      w         p          w   \n",
       "...                     ...                    ...       ...        ...   \n",
       "8119                      o                      o         p          o   \n",
       "8120                      o                      o         p          n   \n",
       "8121                      o                      o         p          o   \n",
       "8122                      w                      w         p          w   \n",
       "8123                      o                      o         p          o   \n",
       "\n",
       "     ring-number ring-type spore-print-color population habitat  \n",
       "0              o         p                 k          s       u  \n",
       "1              o         p                 n          n       g  \n",
       "2              o         p                 n          n       m  \n",
       "3              o         p                 k          s       u  \n",
       "4              o         e                 n          a       g  \n",
       "...          ...       ...               ...        ...     ...  \n",
       "8119           o         p                 b          c       l  \n",
       "8120           o         p                 b          v       l  \n",
       "8121           o         p                 b          c       l  \n",
       "8122           o         e                 w          v       l  \n",
       "8123           o         p                 o          c       l  \n",
       "\n",
       "[8124 rows x 23 columns]"
      ]
     },
     "execution_count": 26,
     "metadata": {},
     "output_type": "execute_result"
    }
   ],
   "source": [
    "mushrooms_df"
   ]
  },
  {
   "cell_type": "raw",
   "id": "b13e9003",
   "metadata": {},
   "source": [
    "2. Convert the categorical features (all of them) to dummy variables."
   ]
  },
  {
   "cell_type": "code",
   "execution_count": 27,
   "id": "03a43cc8",
   "metadata": {},
   "outputs": [
    {
     "data": {
      "text/html": [
       "<div>\n",
       "<style scoped>\n",
       "    .dataframe tbody tr th:only-of-type {\n",
       "        vertical-align: middle;\n",
       "    }\n",
       "\n",
       "    .dataframe tbody tr th {\n",
       "        vertical-align: top;\n",
       "    }\n",
       "\n",
       "    .dataframe thead th {\n",
       "        text-align: right;\n",
       "    }\n",
       "</style>\n",
       "<table border=\"1\" class=\"dataframe\">\n",
       "  <thead>\n",
       "    <tr style=\"text-align: right;\">\n",
       "      <th></th>\n",
       "      <th>class_e</th>\n",
       "      <th>class_p</th>\n",
       "      <th>cap-shape_b</th>\n",
       "      <th>cap-shape_c</th>\n",
       "      <th>cap-shape_f</th>\n",
       "      <th>cap-shape_k</th>\n",
       "      <th>cap-shape_s</th>\n",
       "      <th>cap-shape_x</th>\n",
       "      <th>cap-surface_f</th>\n",
       "      <th>cap-surface_g</th>\n",
       "      <th>...</th>\n",
       "      <th>population_s</th>\n",
       "      <th>population_v</th>\n",
       "      <th>population_y</th>\n",
       "      <th>habitat_d</th>\n",
       "      <th>habitat_g</th>\n",
       "      <th>habitat_l</th>\n",
       "      <th>habitat_m</th>\n",
       "      <th>habitat_p</th>\n",
       "      <th>habitat_u</th>\n",
       "      <th>habitat_w</th>\n",
       "    </tr>\n",
       "  </thead>\n",
       "  <tbody>\n",
       "    <tr>\n",
       "      <th>0</th>\n",
       "      <td>False</td>\n",
       "      <td>True</td>\n",
       "      <td>False</td>\n",
       "      <td>False</td>\n",
       "      <td>False</td>\n",
       "      <td>False</td>\n",
       "      <td>False</td>\n",
       "      <td>True</td>\n",
       "      <td>False</td>\n",
       "      <td>False</td>\n",
       "      <td>...</td>\n",
       "      <td>True</td>\n",
       "      <td>False</td>\n",
       "      <td>False</td>\n",
       "      <td>False</td>\n",
       "      <td>False</td>\n",
       "      <td>False</td>\n",
       "      <td>False</td>\n",
       "      <td>False</td>\n",
       "      <td>True</td>\n",
       "      <td>False</td>\n",
       "    </tr>\n",
       "    <tr>\n",
       "      <th>1</th>\n",
       "      <td>True</td>\n",
       "      <td>False</td>\n",
       "      <td>False</td>\n",
       "      <td>False</td>\n",
       "      <td>False</td>\n",
       "      <td>False</td>\n",
       "      <td>False</td>\n",
       "      <td>True</td>\n",
       "      <td>False</td>\n",
       "      <td>False</td>\n",
       "      <td>...</td>\n",
       "      <td>False</td>\n",
       "      <td>False</td>\n",
       "      <td>False</td>\n",
       "      <td>False</td>\n",
       "      <td>True</td>\n",
       "      <td>False</td>\n",
       "      <td>False</td>\n",
       "      <td>False</td>\n",
       "      <td>False</td>\n",
       "      <td>False</td>\n",
       "    </tr>\n",
       "    <tr>\n",
       "      <th>2</th>\n",
       "      <td>True</td>\n",
       "      <td>False</td>\n",
       "      <td>True</td>\n",
       "      <td>False</td>\n",
       "      <td>False</td>\n",
       "      <td>False</td>\n",
       "      <td>False</td>\n",
       "      <td>False</td>\n",
       "      <td>False</td>\n",
       "      <td>False</td>\n",
       "      <td>...</td>\n",
       "      <td>False</td>\n",
       "      <td>False</td>\n",
       "      <td>False</td>\n",
       "      <td>False</td>\n",
       "      <td>False</td>\n",
       "      <td>False</td>\n",
       "      <td>True</td>\n",
       "      <td>False</td>\n",
       "      <td>False</td>\n",
       "      <td>False</td>\n",
       "    </tr>\n",
       "    <tr>\n",
       "      <th>3</th>\n",
       "      <td>False</td>\n",
       "      <td>True</td>\n",
       "      <td>False</td>\n",
       "      <td>False</td>\n",
       "      <td>False</td>\n",
       "      <td>False</td>\n",
       "      <td>False</td>\n",
       "      <td>True</td>\n",
       "      <td>False</td>\n",
       "      <td>False</td>\n",
       "      <td>...</td>\n",
       "      <td>True</td>\n",
       "      <td>False</td>\n",
       "      <td>False</td>\n",
       "      <td>False</td>\n",
       "      <td>False</td>\n",
       "      <td>False</td>\n",
       "      <td>False</td>\n",
       "      <td>False</td>\n",
       "      <td>True</td>\n",
       "      <td>False</td>\n",
       "    </tr>\n",
       "    <tr>\n",
       "      <th>4</th>\n",
       "      <td>True</td>\n",
       "      <td>False</td>\n",
       "      <td>False</td>\n",
       "      <td>False</td>\n",
       "      <td>False</td>\n",
       "      <td>False</td>\n",
       "      <td>False</td>\n",
       "      <td>True</td>\n",
       "      <td>False</td>\n",
       "      <td>False</td>\n",
       "      <td>...</td>\n",
       "      <td>False</td>\n",
       "      <td>False</td>\n",
       "      <td>False</td>\n",
       "      <td>False</td>\n",
       "      <td>True</td>\n",
       "      <td>False</td>\n",
       "      <td>False</td>\n",
       "      <td>False</td>\n",
       "      <td>False</td>\n",
       "      <td>False</td>\n",
       "    </tr>\n",
       "  </tbody>\n",
       "</table>\n",
       "<p>5 rows × 119 columns</p>\n",
       "</div>"
      ],
      "text/plain": [
       "   class_e  class_p  cap-shape_b  cap-shape_c  cap-shape_f  cap-shape_k  \\\n",
       "0    False     True        False        False        False        False   \n",
       "1     True    False        False        False        False        False   \n",
       "2     True    False         True        False        False        False   \n",
       "3    False     True        False        False        False        False   \n",
       "4     True    False        False        False        False        False   \n",
       "\n",
       "   cap-shape_s  cap-shape_x  cap-surface_f  cap-surface_g  ...  population_s  \\\n",
       "0        False         True          False          False  ...          True   \n",
       "1        False         True          False          False  ...         False   \n",
       "2        False        False          False          False  ...         False   \n",
       "3        False         True          False          False  ...          True   \n",
       "4        False         True          False          False  ...         False   \n",
       "\n",
       "   population_v  population_y  habitat_d  habitat_g  habitat_l  habitat_m  \\\n",
       "0         False         False      False      False      False      False   \n",
       "1         False         False      False       True      False      False   \n",
       "2         False         False      False      False      False       True   \n",
       "3         False         False      False      False      False      False   \n",
       "4         False         False      False       True      False      False   \n",
       "\n",
       "   habitat_p  habitat_u  habitat_w  \n",
       "0      False       True      False  \n",
       "1      False      False      False  \n",
       "2      False      False      False  \n",
       "3      False       True      False  \n",
       "4      False      False      False  \n",
       "\n",
       "[5 rows x 119 columns]"
      ]
     },
     "execution_count": 27,
     "metadata": {},
     "output_type": "execute_result"
    }
   ],
   "source": [
    "# Convert categorical features to dummy variables\n",
    "mushrooms_df_dummies = pd.get_dummies(mushrooms_df)\n",
    "\n",
    "# Display the first few rows\n",
    "mushrooms_df_dummies.head()"
   ]
  },
  {
   "cell_type": "raw",
   "id": "1f675247",
   "metadata": {},
   "source": [
    "3. Split the data into a training and test set"
   ]
  },
  {
   "cell_type": "code",
   "execution_count": 28,
   "id": "925e7a53",
   "metadata": {},
   "outputs": [],
   "source": [
    "# Splitting the data into features and target\n",
    "features = mushrooms_df_dummies.drop('class_e', axis=1)\n",
    "target = mushrooms_df_dummies['class_e']\n",
    "\n",
    "# Splitting the data into training and test sets\n",
    "features_train, features_test, target_train, target_test = train_test_split(features, target, test_size=0.2, random_state=0)"
   ]
  },
  {
   "cell_type": "raw",
   "id": "ebfb39a0",
   "metadata": {},
   "source": [
    "4. Fit a decision tree classifier on the training set."
   ]
  },
  {
   "cell_type": "code",
   "execution_count": 29,
   "id": "bbd9dc89",
   "metadata": {},
   "outputs": [],
   "source": [
    "# importing libraries\n",
    "from sklearn.tree import DecisionTreeClassifier\n",
    "\n",
    "# Create a decision tree classifier\n",
    "decisiontree = DecisionTreeClassifier(random_state=0)\n",
    "\n",
    "# Fit the classifier to the training data\n",
    "decisiontree_model = decisiontree.fit(features_train, target_train)"
   ]
  },
  {
   "cell_type": "raw",
   "id": "81b823a3",
   "metadata": {},
   "source": [
    "5. Report the accuracy and create a confusion matrix for the model prediction on the test set."
   ]
  },
  {
   "cell_type": "code",
   "execution_count": 30,
   "id": "6d59f677",
   "metadata": {},
   "outputs": [
    {
     "name": "stdout",
     "output_type": "stream",
     "text": [
      "Accuracy: 1.0\n",
      "Confusion matrix \n",
      " [[773   0]\n",
      " [  0 852]]\n"
     ]
    }
   ],
   "source": [
    "from sklearn.metrics import accuracy_score, confusion_matrix\n",
    "\n",
    "# Make predictions on the test set\n",
    "decisiontree_predictions = decisiontree_model.predict(features_test)\n",
    "\n",
    "# Calculate accuracy\n",
    "accuracy = accuracy_score(target_test, decisiontree_predictions)\n",
    "print(\"Accuracy:\", accuracy)\n",
    "\n",
    "# Create a confusion matrix\n",
    "confusion_matrix = confusion_matrix(target_test, decisiontree_predictions)\n",
    "\n",
    "# Printing the confusion matrix\n",
    "print('Confusion matrix \\n', confusion_matrix)"
   ]
  },
  {
   "cell_type": "raw",
   "id": "9f260bcd",
   "metadata": {},
   "source": [
    "6. Create a visualization of the decision tree."
   ]
  },
  {
   "cell_type": "code",
   "execution_count": 31,
   "id": "341955e2",
   "metadata": {},
   "outputs": [
    {
     "data": {
      "image/png": "[encoded data removed]",
      "text/plain": [
       "<Figure size 1200x800 with 1 Axes>"
      ]
     },
     "metadata": {},
     "output_type": "display_data"
    }
   ],
   "source": [
    "# Let's use pyplot and then use graphviz\n",
    "import matplotlib.pyplot as plt\n",
    "from sklearn.tree import plot_tree\n",
    "\n",
    "# Set the figure size\n",
    "plt.figure(figsize=(12, 8))\n",
    "\n",
    "target_names = mushrooms_df['class'].unique()\n",
    "# Plot the decision tree\n",
    "plot_tree(decisiontree_model, filled=True, feature_names=features.columns, class_names=target_names)\n",
    "plt.show()"
   ]
  },
  {
   "cell_type": "code",
   "execution_count": 32,
   "id": "38251141",
   "metadata": {},
   "outputs": [
    {
     "data": {
      "image/png": "[encoded data removed]",
      "text/plain": [
       "<IPython.core.display.Image object>"
      ]
     },
     "execution_count": 32,
     "metadata": {},
     "output_type": "execute_result"
    }
   ],
   "source": [
    "import pydotplus\n",
    "from sklearn.tree import export_graphviz\n",
    "import graphviz\n",
    "from IPython.display import Image\n",
    "# Export the tree to a DOT file\n",
    "dot_data = export_graphviz(decisiontree_model, \n",
    "                            out_file=None, \n",
    "                           feature_names=features_train.columns,  \n",
    "                           class_names =  target_names)\n",
    "\n",
    "# Drawing the graph\n",
    "graph = pydotplus.graph_from_dot_data(dot_data)\n",
    "\n",
    "#Showing the graph\n",
    "Image(graph.create_png())"
   ]
  },
  {
   "cell_type": "raw",
   "id": "f3b7e64f",
   "metadata": {},
   "source": [
    "7. Use a χ2-statistic selector to pick the five best features for this data (see section 10.4 of the Machine Learning with Python Cookbook)."
   ]
  },
  {
   "cell_type": "code",
   "execution_count": 33,
   "id": "109c8ef3",
   "metadata": {},
   "outputs": [
    {
     "name": "stdout",
     "output_type": "stream",
     "text": [
      "Original number of features:  118\n",
      "Reduces number of features:  5\n"
     ]
    }
   ],
   "source": [
    "from sklearn.feature_selection import SelectKBest\n",
    "from sklearn.feature_selection import chi2\n",
    "\n",
    "# Selecting 5 best features for the data\n",
    "chi2_selector = SelectKBest(chi2, k=5)\n",
    "features_train_kbest = chi2_selector.fit_transform(features_train, target_train)\n",
    "\n",
    "# Showing the results\n",
    "print('Original number of features: ', features.shape[1])\n",
    "print('Reduces number of features: ', features_train_kbest.shape[1])"
   ]
  },
  {
   "cell_type": "raw",
   "id": "8a784f06",
   "metadata": {},
   "source": [
    "8. Which five features were selected in step 7"
   ]
  },
  {
   "cell_type": "code",
   "execution_count": 34,
   "id": "2c36684a",
   "metadata": {},
   "outputs": [
    {
     "name": "stdout",
     "output_type": "stream",
     "text": [
      "Selected features: \n",
      "\n",
      "class_p\n",
      "odor_f\n",
      "odor_n\n",
      "stalk-surface-above-ring_k\n",
      "stalk-surface-below-ring_k\n"
     ]
    }
   ],
   "source": [
    "# Let's get the indices of the selected features\n",
    "selected_features_indices = chi2_selector.get_support(indices=True)\n",
    "\n",
    "# Names of the features\n",
    "selected_feature_names = features_train.columns[selected_features_indices]\n",
    "\n",
    "# Printing the result\n",
    "print('Selected features: \\n')\n",
    "for feature in selected_feature_names:\n",
    "    print (feature)\n"
   ]
  },
  {
   "cell_type": "raw",
   "id": "defd8fcc",
   "metadata": {},
   "source": [
    "9. Repeat steps 4 and 5 with the five best features selected in step 7."
   ]
  },
  {
   "cell_type": "code",
   "execution_count": 35,
   "id": "5dd05f8b",
   "metadata": {},
   "outputs": [
    {
     "name": "stdout",
     "output_type": "stream",
     "text": [
      "Accuracy with selected features: 1.0\n"
     ]
    }
   ],
   "source": [
    "# Let's transform test features using selected features\n",
    "features_test_kbest = chi2_selector.transform(features_test)\n",
    "\n",
    "# Decision tree classifier using the selected features\n",
    "decisiontree_selected_features = DecisionTreeClassifier(random_state=0)\n",
    "\n",
    "# Fitting the classifier to the training data using the selected features\n",
    "decisiontree_selected_features.fit(features_train_kbest, target_train)\n",
    "\n",
    "# Predictions on the test set using the selected features\n",
    "decisiontree_selected_features_predictions = decisiontree_selected_features.predict(features_test_kbest)\n",
    "\n",
    "# Accuracy using the selected features\n",
    "accuracy_selected_features = accuracy_score(target_test, decisiontree_selected_features_predictions)\n",
    "print(\"Accuracy with selected features:\", accuracy_selected_features)"
   ]
  },
  {
   "cell_type": "code",
   "execution_count": 36,
   "id": "678b4698",
   "metadata": {},
   "outputs": [
    {
     "name": "stdout",
     "output_type": "stream",
     "text": [
      "Confusion matrix with selected features:\n",
      " [[773   0]\n",
      " [  0 852]]\n"
     ]
    }
   ],
   "source": [
    "from sklearn.metrics import confusion_matrix\n",
    "\n",
    "# Confusion matrix using the selected features\n",
    "confusion_matrix_selected_features = confusion_matrix(target_test, decisiontree_selected_features_predictions)\n",
    "\n",
    "print(\"Confusion matrix with selected features:\\n\", confusion_matrix_selected_features)"
   ]
  },
  {
   "cell_type": "raw",
   "id": "5970bfa5",
   "metadata": {},
   "source": [
    "10- Summarize your findings:"
   ]
  },
  {
   "cell_type": "raw",
   "id": "661ab0d9",
   "metadata": {},
   "source": [
    "Both the full feature set and the selected features have the same confusion matrix and accuracy. This means that the selected features are sufficient to achieve the maximum accuracy for the model."
   ]
  }
 ],
 "metadata": {
  "kernelspec": {
   "display_name": "Python 3 (ipykernel)",
   "language": "python",
   "name": "python3"
  },
  "language_info": {
   "codemirror_mode": {
    "name": "ipython",
    "version": 3
   },
   "file_extension": ".py",
   "mimetype": "text/x-python",
   "name": "python",
   "nbconvert_exporter": "python",
   "pygments_lexer": "ipython3",
   "version": "3.11.7"
  }
 },
 "nbformat": 4,
 "nbformat_minor": 5
}
